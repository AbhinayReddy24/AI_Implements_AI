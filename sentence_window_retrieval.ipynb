{
 "cells": [
  {
   "cell_type": "code",
   "execution_count": 6,
   "metadata": {},
   "outputs": [],
   "source": [
    "from warnings import filterwarnings\n",
    "\n",
    "filterwarnings('ignore')\n"
   ]
  },
  {
   "cell_type": "code",
   "execution_count": 5,
   "metadata": {},
   "outputs": [],
   "source": [
    "%reload_ext autoreload"
   ]
  },
  {
   "cell_type": "code",
   "execution_count": 7,
   "metadata": {},
   "outputs": [],
   "source": [
    "from utils import get_openai_api_key\n",
    "\n",
    "get_openai_api_key()\n",
    "\n",
    "import os \n",
    "import openai\n",
    "openai.api_key = os.environ[\"OPENAI_API_KEY\"]"
   ]
  },
  {
   "cell_type": "code",
   "execution_count": 8,
   "metadata": {},
   "outputs": [],
   "source": [
    "from llama_index import SimpleDirectoryReader\n",
    "\n",
    "documents = SimpleDirectoryReader(\n",
    "    input_files=[\"/Users/abhinay/Desktop/Real-Time_Detection_of_DNS_Exfiltration_and_Tunneling_from_Enterprise_Networks-1.pdf\"]\n",
    ").load_data()"
   ]
  },
  {
   "cell_type": "code",
   "execution_count": 9,
   "metadata": {},
   "outputs": [],
   "source": [
    "from llama_index import Document\n",
    "\n",
    "document = Document(text = \"\\n\\n\".join([doc.text for doc in documents]))"
   ]
  },
  {
   "cell_type": "code",
   "execution_count": 10,
   "metadata": {},
   "outputs": [],
   "source": [
    "from llama_index.node_parser import SentenceWindowNodeParser\n",
    "\n",
    "node_parser = SentenceWindowNodeParser.from_defaults(\n",
    "    window_size=3,\n",
    "    window_metadata_key=\"window\",\n",
    "    original_text_metadata_key=\"original_text\"\n",
    ")"
   ]
  },
  {
   "cell_type": "code",
   "execution_count": 11,
   "metadata": {},
   "outputs": [],
   "source": [
    "text = \"hello!! world again. for the 1000th time\"\n",
    "\n",
    "nodes = node_parser.get_nodes_from_documents([Document(text = text)])"
   ]
  },
  {
   "cell_type": "code",
   "execution_count": 33,
   "metadata": {},
   "outputs": [
    {
     "name": "stdout",
     "output_type": "stream",
     "text": [
      "['hello!! ', 'world again. ', 'for the 1000th time']\n"
     ]
    }
   ],
   "source": [
    "print([x.text for x in nodes])"
   ]
  },
  {
   "cell_type": "code",
   "execution_count": 34,
   "metadata": {},
   "outputs": [
    {
     "name": "stdout",
     "output_type": "stream",
     "text": [
      "hello!!  world again.  for the 1000th time\n"
     ]
    }
   ],
   "source": [
    "print(nodes[1].metadata[\"window\"])"
   ]
  },
  {
   "cell_type": "code",
   "execution_count": 12,
   "metadata": {},
   "outputs": [],
   "source": [
    "text = \"hello! puppy. cat says hi!!\"\n",
    "\n",
    "nodes = node_parser.get_nodes_from_documents([Document(text = text)])"
   ]
  },
  {
   "cell_type": "code",
   "execution_count": 36,
   "metadata": {},
   "outputs": [
    {
     "name": "stdout",
     "output_type": "stream",
     "text": [
      "['hello! ', 'puppy. ', 'cat says hi!', '!']\n"
     ]
    }
   ],
   "source": [
    "print([x.text for x in nodes])"
   ]
  },
  {
   "cell_type": "code",
   "execution_count": 20,
   "metadata": {},
   "outputs": [
    {
     "name": "stdout",
     "output_type": "stream",
     "text": [
      "hello!  puppy.  cat says hi!\n"
     ]
    }
   ],
   "source": [
    "print(nodes[0].metadata[\"window\"])"
   ]
  },
  {
   "cell_type": "code",
   "execution_count": 13,
   "metadata": {},
   "outputs": [],
   "source": [
    "from llama_index.llms import OpenAI\n",
    "\n",
    "llm = OpenAI(model = \"gpt-3.5-turbo\", temperature = 0.1)"
   ]
  },
  {
   "cell_type": "code",
   "execution_count": 14,
   "metadata": {},
   "outputs": [],
   "source": [
    "from llama_index import ServiceContext\n",
    "\n",
    "sentence_context = ServiceContext.from_defaults(\n",
    "    llm = llm,\n",
    "    embed_model=\"local:BAAI/bge-small-en-v1.5\", \n",
    "    node_parser = node_parser \n",
    ")"
   ]
  },
  {
   "cell_type": "code",
   "execution_count": 15,
   "metadata": {},
   "outputs": [],
   "source": [
    "from llama_index import VectorStoreIndex\n",
    "\n",
    "sentence_index = VectorStoreIndex.from_documents(\n",
    "    [document],\n",
    "    sentence_context = sentence_context\n",
    ")"
   ]
  },
  {
   "cell_type": "code",
   "execution_count": 16,
   "metadata": {},
   "outputs": [],
   "source": [
    "sentence_index.storage_context.persist(persist_dir=\"./sentence_index_v4/\")"
   ]
  },
  {
   "cell_type": "code",
   "execution_count": 18,
   "metadata": {},
   "outputs": [],
   "source": [
    "from llama_index.indices.postprocessor import MetadataReplacementPostProcessor\n",
    "\n",
    "postproc = MetadataReplacementPostProcessor(\n",
    "    target_metadata_key=\"window\"\n",
    ")"
   ]
  },
  {
   "cell_type": "code",
   "execution_count": 19,
   "metadata": {},
   "outputs": [],
   "source": [
    "from llama_index.schema import NodeWithScore\n",
    "from copy import deepcopy\n",
    "\n",
    "scoredNodes = [NodeWithScore(node=x, score=0.1) for x in nodes]\n",
    "nodes_old = [deepcopy(n) for n in nodes]\n"
   ]
  },
  {
   "cell_type": "code",
   "execution_count": 45,
   "metadata": {},
   "outputs": [
    {
     "data": {
      "text/plain": [
       "'puppy. '"
      ]
     },
     "execution_count": 45,
     "metadata": {},
     "output_type": "execute_result"
    }
   ],
   "source": [
    "nodes_old[1].text"
   ]
  },
  {
   "cell_type": "code",
   "execution_count": 20,
   "metadata": {},
   "outputs": [],
   "source": [
    "replaced_nodes = postproc.postprocess_nodes(scoredNodes)"
   ]
  },
  {
   "cell_type": "code",
   "execution_count": 47,
   "metadata": {},
   "outputs": [
    {
     "name": "stdout",
     "output_type": "stream",
     "text": [
      "hello!  puppy.  cat says hi! !\n"
     ]
    }
   ],
   "source": [
    "print(replaced_nodes[1].text)"
   ]
  },
  {
   "cell_type": "code",
   "execution_count": 21,
   "metadata": {},
   "outputs": [],
   "source": [
    "from llama_index.indices.postprocessor import SentenceTransformerRerank\n",
    "\n",
    "rerank = SentenceTransformerRerank(top_n=2,\n",
    "                                              model=\"BAAI/bge-reranker-base\")"
   ]
  },
  {
   "cell_type": "code",
   "execution_count": 22,
   "metadata": {},
   "outputs": [],
   "source": [
    "from llama_index.schema import QueryBundle\n",
    "from llama_index.schema import NodeWithScore, TextNode\n",
    "\n",
    "query = QueryBundle(\"I want a puppy\")\n",
    "\n",
    "scored_nodes = [\n",
    "    NodeWithScore(node = TextNode(text = \"This is a dog\"), score=0.4),\n",
    "    NodeWithScore(node = TextNode(text = \"This is a cat\"), score=0.6)\n",
    "]"
   ]
  },
  {
   "cell_type": "code",
   "execution_count": 23,
   "metadata": {},
   "outputs": [],
   "source": [
    "reranked_nodes = rerank.postprocess_nodes(\n",
    "    scored_nodes, query_bundle=query\n",
    ")"
   ]
  },
  {
   "cell_type": "code",
   "execution_count": 53,
   "metadata": {},
   "outputs": [
    {
     "name": "stdout",
     "output_type": "stream",
     "text": [
      "[(0.6339884, 'This is a dog'), (0.004385631, 'This is a cat')]\n"
     ]
    }
   ],
   "source": [
    "print([(x.score, x.text )for x in reranked_nodes])"
   ]
  },
  {
   "cell_type": "code",
   "execution_count": 24,
   "metadata": {},
   "outputs": [],
   "source": [
    "sentence_window_engine = sentence_index.as_query_engine(\n",
    "    similarity_top_k = 6, node_postprocessors = [postproc, rerank]\n",
    ")"
   ]
  },
  {
   "cell_type": "code",
   "execution_count": 29,
   "metadata": {},
   "outputs": [
    {
     "data": {
      "text/markdown": [
       "**`Final Response:`** The final parameters used for the iForest algorithm during the training phase were as follows: \n",
       "- Number of trees (nestimators): 2\n",
       "- Height limit of trees (max samples): 18\n",
       "- Contamination rate: 10%\n",
       "\n",
       "The model used for anomaly detection was the Isolation Forest (iForest) algorithm, which is known for its effectiveness in detecting anomalous instances in high-dimensional datasets with minimal memory and time complexities. The iForest algorithm isolates observations by randomly selecting attributes and split values, and the path length from the root node to the terminating node is used as a measure of normality. When a forest of random trees collectively produces shorter path lengths for a particular instance, it is highly likely to be an anomaly."
      ],
      "text/plain": [
       "<IPython.core.display.Markdown object>"
      ]
     },
     "metadata": {},
     "output_type": "display_data"
    }
   ],
   "source": [
    "from llama_index.response.notebook_utils import display_response\n",
    "\n",
    "window_response = sentence_window_engine.query(\"what were the final parameters and the model that was used \")\n",
    "\n",
    "display_response(window_response)\n"
   ]
  },
  {
   "cell_type": "code",
   "execution_count": 26,
   "metadata": {},
   "outputs": [
    {
     "name": "stdout",
     "output_type": "stream",
     "text": [
      "what were the final parameters that were used in the model\n",
      "what were the final attributes that were used\n",
      "what were all the evaluation metrics used\n",
      "what were all the references that was used\n",
      "what were all the algorithms that were tested out\n",
      "what was the final goal of the author and did they achieve it\n",
      "what does each attribute mean in the aritcle\n",
      "what is is that this paper is trying to accomplish\n",
      "How was the data set collected\n",
      "what were the final parameters that were used in the model\n",
      "what were the final attributes that were used\n",
      "what were all the evaluation metrics used\n",
      "what were all the references that was used\n",
      "what were all the algorithms that were tested out\n",
      "what was the final goal of the author and did they achieve it\n",
      "what does each attribute mean in the aritcle\n",
      "what is is that this paper is trying to accomplish\n",
      "How was the data set collected\n"
     ]
    }
   ],
   "source": [
    "eval_questions = []\n",
    "\n",
    "with open('eval_questions.txt', 'r') as file:\n",
    "    for line in file:\n",
    "        item = line.strip()\n",
    "        print(item)\n",
    "        eval_questions.append(item)"
   ]
  },
  {
   "cell_type": "code",
   "execution_count": 27,
   "metadata": {},
   "outputs": [],
   "source": [
    "from trulens_eval import Tru\n",
    "\n",
    "def run_evals (eval_questions, tru_recorder,query_engine):\n",
    "    for question in eval_questions:\n",
    "        with tru_recorder as recording:\n",
    "            response = query_engine.query(question)"
   ]
  },
  {
   "cell_type": "code",
   "execution_count": 28,
   "metadata": {},
   "outputs": [
    {
     "name": "stdout",
     "output_type": "stream",
     "text": [
      "🦑 Tru initialized with db url sqlite:///default.sqlite .\n",
      "🛑 Secret keys may be written to the database. See the `database_redact_keys` option of `Tru` to prevent this.\n"
     ]
    }
   ],
   "source": [
    "from utils import get_prebuilt_trulens_recorder\n",
    "\n",
    "from trulens_eval import Tru\n",
    "\n",
    "Tru().reset_database()"
   ]
  },
  {
   "cell_type": "code",
   "execution_count": 36,
   "metadata": {},
   "outputs": [],
   "source": [
    "from utils import build_sentence_window_index\n",
    "\n",
    "\n",
    "senetence_window_index_1 = build_sentence_window_index(\n",
    "    documents,\n",
    "    llm=OpenAI(model=\"gpt-3.5-turbo\", temperature=0.1),\n",
    "    embed_model=\"local:BAAI/bge-small-en-v1.5\",\n",
    "    sentence_window_size=1,\n",
    "    save_dir=\"sentence_index_v5\",\n",
    "    )"
   ]
  },
  {
   "cell_type": "code",
   "execution_count": 37,
   "metadata": {},
   "outputs": [],
   "source": [
    "from utils import get_sentence_window_query_engine\n",
    "\n",
    "sentence_window_engine_1 = get_sentence_window_query_engine(\n",
    "    senetence_window_index_1\n",
    ")"
   ]
  },
  {
   "cell_type": "code",
   "execution_count": 39,
   "metadata": {},
   "outputs": [
    {
     "name": "stdout",
     "output_type": "stream",
     "text": [
      "✅ In answer relevance, input prompt will be set to __record__.main_input or `Select.RecordInput` .\n",
      "✅ In answer relevance, input response will be set to __record__.main_output or `Select.RecordOutput` .\n",
      "✅ In context relecnace, input prompt will be set to __record__.main_input or `Select.RecordInput` .\n",
      "✅ In context relecnace, input response will be set to __record__.app.query.rets.source_nodes[:].node.text .\n",
      "✅ In groundedness, input source will be set to __record__.main_output or `Select.RecordOutput` .\n"
     ]
    }
   ],
   "source": [
    "tru_recorder_1 = get_prebuilt_trulens_recorder(\n",
    "    sentence_window_engine_1,\n",
    "    app_id = 'sentence window engine 1'\n",
    ")"
   ]
  },
  {
   "cell_type": "code",
   "execution_count": null,
   "metadata": {},
   "outputs": [
    {
     "name": "stderr",
     "output_type": "stream",
     "text": [
      "Feedback Function exception caught: Traceback (most recent call last):\n",
      "  File \"/Users/abhinay/Library/Python/3.9/lib/python/site-packages/trulens_eval/feedback/feedback.py\", line 501, in run\n",
      "    result_and_meta, part_cost = Endpoint.track_all_costs_tally(\n",
      "  File \"/Users/abhinay/Library/Python/3.9/lib/python/site-packages/trulens_eval/feedback/provider/endpoint/base.py\", line 447, in track_all_costs_tally\n",
      "    result, cbs = Endpoint.track_all_costs(\n",
      "  File \"/Users/abhinay/Library/Python/3.9/lib/python/site-packages/trulens_eval/feedback/provider/endpoint/base.py\", line 396, in track_all_costs\n",
      "    return Endpoint._track_costs(thunk, with_endpoints=endpoints)\n",
      "  File \"/Users/abhinay/Library/Python/3.9/lib/python/site-packages/trulens_eval/feedback/provider/endpoint/base.py\", line 553, in _track_costs\n",
      "    result: T = thunk()\n",
      "  File \"/Users/abhinay/Library/Python/3.9/lib/python/site-packages/trulens_eval/feedback/feedback.py\", line 502, in <lambda>\n",
      "    lambda: self.imp(**ins)\n",
      "TypeError: groundedness_measure_with_cot_reasons() missing 1 required positional argument: 'statement'\n",
      "\n",
      "During handling of the above exception, another exception occurred:\n",
      "\n",
      "Traceback (most recent call last):\n",
      "  File \"/Users/abhinay/Library/Python/3.9/lib/python/site-packages/trulens_eval/feedback/feedback.py\", line 506, in run\n",
      "    raise RuntimeError(\n",
      "RuntimeError: Evaluation of groundedness_measure_with_cot_reasons failed on inputs: \n",
      "{'source': 'The final parameters used in the model were the number of trees '\n",
      "           '(nestimators), height limit of trees (\n",
      "groundedness_measure_with_cot_reasons() missing 1 required positional argument: 'statement'.\n",
      "\n",
      "Feedback Function exception caught: Traceback (most recent call last):\n",
      "  File \"/Users/abhinay/Library/Python/3.9/lib/python/site-packages/trulens_eval/feedback/feedback.py\", line 501, in run\n",
      "    result_and_meta, part_cost = Endpoint.track_all_costs_tally(\n",
      "  File \"/Users/abhinay/Library/Python/3.9/lib/python/site-packages/trulens_eval/feedback/provider/endpoint/base.py\", line 447, in track_all_costs_tally\n",
      "    result, cbs = Endpoint.track_all_costs(\n",
      "  File \"/Users/abhinay/Library/Python/3.9/lib/python/site-packages/trulens_eval/feedback/provider/endpoint/base.py\", line 396, in track_all_costs\n",
      "    return Endpoint._track_costs(thunk, with_endpoints=endpoints)\n",
      "  File \"/Users/abhinay/Library/Python/3.9/lib/python/site-packages/trulens_eval/feedback/provider/endpoint/base.py\", line 553, in _track_costs\n",
      "    result: T = thunk()\n",
      "  File \"/Users/abhinay/Library/Python/3.9/lib/python/site-packages/trulens_eval/feedback/feedback.py\", line 502, in <lambda>\n",
      "    lambda: self.imp(**ins)\n",
      "TypeError: groundedness_measure_with_cot_reasons() missing 1 required positional argument: 'statement'\n",
      "\n",
      "During handling of the above exception, another exception occurred:\n",
      "\n",
      "Traceback (most recent call last):\n",
      "  File \"/Users/abhinay/Library/Python/3.9/lib/python/site-packages/trulens_eval/feedback/feedback.py\", line 506, in run\n",
      "    raise RuntimeError(\n",
      "RuntimeError: Evaluation of groundedness_measure_with_cot_reasons failed on inputs: \n",
      "{'source': 'The final attributes that were used in the machine learning model '\n",
      "           'were maximum label length and averag\n",
      "groundedness_measure_with_cot_reasons() missing 1 required positional argument: 'statement'.\n",
      "\n",
      "Feedback Function exception caught: Traceback (most recent call last):\n",
      "  File \"/Users/abhinay/Library/Python/3.9/lib/python/site-packages/trulens_eval/feedback/feedback.py\", line 501, in run\n",
      "    result_and_meta, part_cost = Endpoint.track_all_costs_tally(\n",
      "  File \"/Users/abhinay/Library/Python/3.9/lib/python/site-packages/trulens_eval/feedback/provider/endpoint/base.py\", line 447, in track_all_costs_tally\n",
      "    result, cbs = Endpoint.track_all_costs(\n",
      "  File \"/Users/abhinay/Library/Python/3.9/lib/python/site-packages/trulens_eval/feedback/provider/endpoint/base.py\", line 396, in track_all_costs\n",
      "    return Endpoint._track_costs(thunk, with_endpoints=endpoints)\n",
      "  File \"/Users/abhinay/Library/Python/3.9/lib/python/site-packages/trulens_eval/feedback/provider/endpoint/base.py\", line 553, in _track_costs\n",
      "    result: T = thunk()\n",
      "  File \"/Users/abhinay/Library/Python/3.9/lib/python/site-packages/trulens_eval/feedback/feedback.py\", line 502, in <lambda>\n",
      "    lambda: self.imp(**ins)\n",
      "TypeError: groundedness_measure_with_cot_reasons() missing 1 required positional argument: 'statement'\n",
      "\n",
      "During handling of the above exception, another exception occurred:\n",
      "\n",
      "Traceback (most recent call last):\n",
      "  File \"/Users/abhinay/Library/Python/3.9/lib/python/site-packages/trulens_eval/feedback/feedback.py\", line 506, in run\n",
      "    raise RuntimeError(\n",
      "RuntimeError: Evaluation of groundedness_measure_with_cot_reasons failed on inputs: \n",
      "{'source': 'The evaluation metrics used in the given context are not '\n",
      "           'mentioned.'}\n",
      "groundedness_measure_with_cot_reasons() missing 1 required positional argument: 'statement'.\n",
      "\n",
      "Feedback Function exception caught: Traceback (most recent call last):\n",
      "  File \"/Users/abhinay/Library/Python/3.9/lib/python/site-packages/trulens_eval/feedback/feedback.py\", line 501, in run\n",
      "    result_and_meta, part_cost = Endpoint.track_all_costs_tally(\n",
      "  File \"/Users/abhinay/Library/Python/3.9/lib/python/site-packages/trulens_eval/feedback/provider/endpoint/base.py\", line 447, in track_all_costs_tally\n",
      "    result, cbs = Endpoint.track_all_costs(\n",
      "  File \"/Users/abhinay/Library/Python/3.9/lib/python/site-packages/trulens_eval/feedback/provider/endpoint/base.py\", line 396, in track_all_costs\n",
      "    return Endpoint._track_costs(thunk, with_endpoints=endpoints)\n",
      "  File \"/Users/abhinay/Library/Python/3.9/lib/python/site-packages/trulens_eval/feedback/provider/endpoint/base.py\", line 553, in _track_costs\n",
      "    result: T = thunk()\n",
      "  File \"/Users/abhinay/Library/Python/3.9/lib/python/site-packages/trulens_eval/feedback/feedback.py\", line 502, in <lambda>\n",
      "    lambda: self.imp(**ins)\n",
      "TypeError: groundedness_measure_with_cot_reasons() missing 1 required positional argument: 'statement'\n",
      "\n",
      "During handling of the above exception, another exception occurred:\n",
      "\n",
      "Traceback (most recent call last):\n",
      "  File \"/Users/abhinay/Library/Python/3.9/lib/python/site-packages/trulens_eval/feedback/feedback.py\", line 506, in run\n",
      "    raise RuntimeError(\n",
      "RuntimeError: Evaluation of groundedness_measure_with_cot_reasons failed on inputs: \n",
      "{'source': 'The references that were used include:\\n'\n",
      "           '1. Efﬁcient iP, “The Global DNS Threat Survey,” Tech.\\n'\n",
      "     \n",
      "groundedness_measure_with_cot_reasons() missing 1 required positional argument: 'statement'.\n",
      "\n",
      "Feedback Function exception caught: Traceback (most recent call last):\n",
      "  File \"/Users/abhinay/Library/Python/3.9/lib/python/site-packages/trulens_eval/feedback/feedback.py\", line 501, in run\n",
      "    result_and_meta, part_cost = Endpoint.track_all_costs_tally(\n",
      "  File \"/Users/abhinay/Library/Python/3.9/lib/python/site-packages/trulens_eval/feedback/provider/endpoint/base.py\", line 447, in track_all_costs_tally\n",
      "    result, cbs = Endpoint.track_all_costs(\n",
      "  File \"/Users/abhinay/Library/Python/3.9/lib/python/site-packages/trulens_eval/feedback/provider/endpoint/base.py\", line 396, in track_all_costs\n",
      "    return Endpoint._track_costs(thunk, with_endpoints=endpoints)\n",
      "  File \"/Users/abhinay/Library/Python/3.9/lib/python/site-packages/trulens_eval/feedback/provider/endpoint/base.py\", line 553, in _track_costs\n",
      "    result: T = thunk()\n",
      "  File \"/Users/abhinay/Library/Python/3.9/lib/python/site-packages/trulens_eval/feedback/feedback.py\", line 502, in <lambda>\n",
      "    lambda: self.imp(**ins)\n",
      "TypeError: groundedness_measure_with_cot_reasons() missing 1 required positional argument: 'statement'\n",
      "\n",
      "During handling of the above exception, another exception occurred:\n",
      "\n",
      "Traceback (most recent call last):\n",
      "  File \"/Users/abhinay/Library/Python/3.9/lib/python/site-packages/trulens_eval/feedback/feedback.py\", line 506, in run\n",
      "    raise RuntimeError(\n",
      "RuntimeError: Evaluation of groundedness_measure_with_cot_reasons failed on inputs: \n",
      "{'source': 'The context information does not provide any information about the '\n",
      "           'algorithms that were tested out. Th\n",
      "groundedness_measure_with_cot_reasons() missing 1 required positional argument: 'statement'.\n",
      "\n",
      "Feedback Function exception caught: Traceback (most recent call last):\n",
      "  File \"/Users/abhinay/Library/Python/3.9/lib/python/site-packages/trulens_eval/feedback/feedback.py\", line 501, in run\n",
      "    result_and_meta, part_cost = Endpoint.track_all_costs_tally(\n",
      "  File \"/Users/abhinay/Library/Python/3.9/lib/python/site-packages/trulens_eval/feedback/provider/endpoint/base.py\", line 447, in track_all_costs_tally\n",
      "    result, cbs = Endpoint.track_all_costs(\n",
      "  File \"/Users/abhinay/Library/Python/3.9/lib/python/site-packages/trulens_eval/feedback/provider/endpoint/base.py\", line 396, in track_all_costs\n",
      "    return Endpoint._track_costs(thunk, with_endpoints=endpoints)\n",
      "  File \"/Users/abhinay/Library/Python/3.9/lib/python/site-packages/trulens_eval/feedback/provider/endpoint/base.py\", line 553, in _track_costs\n",
      "    result: T = thunk()\n",
      "  File \"/Users/abhinay/Library/Python/3.9/lib/python/site-packages/trulens_eval/feedback/feedback.py\", line 502, in <lambda>\n",
      "    lambda: self.imp(**ins)\n",
      "TypeError: groundedness_measure_with_cot_reasons() missing 1 required positional argument: 'statement'\n",
      "\n",
      "During handling of the above exception, another exception occurred:\n",
      "\n",
      "Traceback (most recent call last):\n",
      "  File \"/Users/abhinay/Library/Python/3.9/lib/python/site-packages/trulens_eval/feedback/feedback.py\", line 506, in run\n",
      "    raise RuntimeError(\n",
      "RuntimeError: Evaluation of groundedness_measure_with_cot_reasons failed on inputs: \n",
      "{'source': 'The final goal of the authors was to investigate and establish an '\n",
      "           'upper bound on the volume of surrept\n",
      "groundedness_measure_with_cot_reasons() missing 1 required positional argument: 'statement'.\n",
      "\n",
      "Feedback Function exception caught: Traceback (most recent call last):\n",
      "  File \"/Users/abhinay/Library/Python/3.9/lib/python/site-packages/trulens_eval/feedback/feedback.py\", line 501, in run\n",
      "    result_and_meta, part_cost = Endpoint.track_all_costs_tally(\n",
      "  File \"/Users/abhinay/Library/Python/3.9/lib/python/site-packages/trulens_eval/feedback/provider/endpoint/base.py\", line 447, in track_all_costs_tally\n",
      "    result, cbs = Endpoint.track_all_costs(\n",
      "  File \"/Users/abhinay/Library/Python/3.9/lib/python/site-packages/trulens_eval/feedback/provider/endpoint/base.py\", line 396, in track_all_costs\n",
      "    return Endpoint._track_costs(thunk, with_endpoints=endpoints)\n",
      "  File \"/Users/abhinay/Library/Python/3.9/lib/python/site-packages/trulens_eval/feedback/provider/endpoint/base.py\", line 553, in _track_costs\n",
      "    result: T = thunk()\n",
      "  File \"/Users/abhinay/Library/Python/3.9/lib/python/site-packages/trulens_eval/feedback/feedback.py\", line 502, in <lambda>\n",
      "    lambda: self.imp(**ins)\n",
      "TypeError: groundedness_measure_with_cot_reasons() missing 1 required positional argument: 'statement'\n",
      "\n",
      "During handling of the above exception, another exception occurred:\n",
      "\n",
      "Traceback (most recent call last):\n",
      "  File \"/Users/abhinay/Library/Python/3.9/lib/python/site-packages/trulens_eval/feedback/feedback.py\", line 506, in run\n",
      "    raise RuntimeError(\n",
      "RuntimeError: Evaluation of groundedness_measure_with_cot_reasons failed on inputs: \n",
      "{'source': 'The article defines its attributes based on three main categories: '\n",
      "           'character count, entropy, and lengt\n",
      "groundedness_measure_with_cot_reasons() missing 1 required positional argument: 'statement'.\n",
      "\n",
      "Feedback Function exception caught: Traceback (most recent call last):\n",
      "  File \"/Users/abhinay/Library/Python/3.9/lib/python/site-packages/trulens_eval/feedback/feedback.py\", line 501, in run\n",
      "    result_and_meta, part_cost = Endpoint.track_all_costs_tally(\n",
      "  File \"/Users/abhinay/Library/Python/3.9/lib/python/site-packages/trulens_eval/feedback/provider/endpoint/base.py\", line 447, in track_all_costs_tally\n",
      "    result, cbs = Endpoint.track_all_costs(\n",
      "  File \"/Users/abhinay/Library/Python/3.9/lib/python/site-packages/trulens_eval/feedback/provider/endpoint/base.py\", line 396, in track_all_costs\n",
      "    return Endpoint._track_costs(thunk, with_endpoints=endpoints)\n",
      "  File \"/Users/abhinay/Library/Python/3.9/lib/python/site-packages/trulens_eval/feedback/provider/endpoint/base.py\", line 553, in _track_costs\n",
      "    result: T = thunk()\n",
      "  File \"/Users/abhinay/Library/Python/3.9/lib/python/site-packages/trulens_eval/feedback/feedback.py\", line 502, in <lambda>\n",
      "    lambda: self.imp(**ins)\n",
      "TypeError: groundedness_measure_with_cot_reasons() missing 1 required positional argument: 'statement'\n",
      "\n",
      "During handling of the above exception, another exception occurred:\n",
      "\n",
      "Traceback (most recent call last):\n",
      "  File \"/Users/abhinay/Library/Python/3.9/lib/python/site-packages/trulens_eval/feedback/feedback.py\", line 506, in run\n",
      "    raise RuntimeError(\n",
      "RuntimeError: Evaluation of groundedness_measure_with_cot_reasons failed on inputs: \n",
      "{'source': 'The paper is trying to accomplish the task of real-time detection '\n",
      "           'of DNS exfiltration and tunneling fr\n",
      "groundedness_measure_with_cot_reasons() missing 1 required positional argument: 'statement'.\n",
      "\n",
      "Feedback Function exception caught: Traceback (most recent call last):\n",
      "  File \"/Users/abhinay/Library/Python/3.9/lib/python/site-packages/trulens_eval/feedback/feedback.py\", line 501, in run\n",
      "    result_and_meta, part_cost = Endpoint.track_all_costs_tally(\n",
      "  File \"/Users/abhinay/Library/Python/3.9/lib/python/site-packages/trulens_eval/feedback/provider/endpoint/base.py\", line 447, in track_all_costs_tally\n",
      "    result, cbs = Endpoint.track_all_costs(\n",
      "  File \"/Users/abhinay/Library/Python/3.9/lib/python/site-packages/trulens_eval/feedback/provider/endpoint/base.py\", line 396, in track_all_costs\n",
      "    return Endpoint._track_costs(thunk, with_endpoints=endpoints)\n",
      "  File \"/Users/abhinay/Library/Python/3.9/lib/python/site-packages/trulens_eval/feedback/provider/endpoint/base.py\", line 553, in _track_costs\n",
      "    result: T = thunk()\n",
      "  File \"/Users/abhinay/Library/Python/3.9/lib/python/site-packages/trulens_eval/feedback/feedback.py\", line 502, in <lambda>\n",
      "    lambda: self.imp(**ins)\n",
      "TypeError: groundedness_measure_with_cot_reasons() missing 1 required positional argument: 'statement'\n",
      "\n",
      "During handling of the above exception, another exception occurred:\n",
      "\n",
      "Traceback (most recent call last):\n",
      "  File \"/Users/abhinay/Library/Python/3.9/lib/python/site-packages/trulens_eval/feedback/feedback.py\", line 506, in run\n",
      "    raise RuntimeError(\n",
      "RuntimeError: Evaluation of groundedness_measure_with_cot_reasons failed on inputs: \n",
      "{'source': 'The data set was collected over a one-week period from 30-Jul-2018 '\n",
      "           'to 5-Aug-2018.'}\n",
      "groundedness_measure_with_cot_reasons() missing 1 required positional argument: 'statement'.\n",
      "\n",
      "Feedback Function exception caught: Traceback (most recent call last):\n",
      "  File \"/Users/abhinay/Library/Python/3.9/lib/python/site-packages/trulens_eval/feedback/feedback.py\", line 501, in run\n",
      "    result_and_meta, part_cost = Endpoint.track_all_costs_tally(\n",
      "  File \"/Users/abhinay/Library/Python/3.9/lib/python/site-packages/trulens_eval/feedback/provider/endpoint/base.py\", line 447, in track_all_costs_tally\n",
      "    result, cbs = Endpoint.track_all_costs(\n",
      "  File \"/Users/abhinay/Library/Python/3.9/lib/python/site-packages/trulens_eval/feedback/provider/endpoint/base.py\", line 396, in track_all_costs\n",
      "    return Endpoint._track_costs(thunk, with_endpoints=endpoints)\n",
      "  File \"/Users/abhinay/Library/Python/3.9/lib/python/site-packages/trulens_eval/feedback/provider/endpoint/base.py\", line 553, in _track_costs\n",
      "    result: T = thunk()\n",
      "  File \"/Users/abhinay/Library/Python/3.9/lib/python/site-packages/trulens_eval/feedback/feedback.py\", line 502, in <lambda>\n",
      "    lambda: self.imp(**ins)\n",
      "TypeError: groundedness_measure_with_cot_reasons() missing 1 required positional argument: 'statement'\n",
      "\n",
      "During handling of the above exception, another exception occurred:\n",
      "\n",
      "Traceback (most recent call last):\n",
      "  File \"/Users/abhinay/Library/Python/3.9/lib/python/site-packages/trulens_eval/feedback/feedback.py\", line 506, in run\n",
      "    raise RuntimeError(\n",
      "RuntimeError: Evaluation of groundedness_measure_with_cot_reasons failed on inputs: \n",
      "{'source': 'The final parameters used in the model were the number of trees '\n",
      "           '(nestimators), height limit of trees (\n",
      "groundedness_measure_with_cot_reasons() missing 1 required positional argument: 'statement'.\n",
      "\n",
      "Feedback Function exception caught: Traceback (most recent call last):\n",
      "  File \"/Users/abhinay/Library/Python/3.9/lib/python/site-packages/trulens_eval/feedback/feedback.py\", line 501, in run\n",
      "    result_and_meta, part_cost = Endpoint.track_all_costs_tally(\n",
      "  File \"/Users/abhinay/Library/Python/3.9/lib/python/site-packages/trulens_eval/feedback/provider/endpoint/base.py\", line 447, in track_all_costs_tally\n",
      "    result, cbs = Endpoint.track_all_costs(\n",
      "  File \"/Users/abhinay/Library/Python/3.9/lib/python/site-packages/trulens_eval/feedback/provider/endpoint/base.py\", line 396, in track_all_costs\n",
      "    return Endpoint._track_costs(thunk, with_endpoints=endpoints)\n",
      "  File \"/Users/abhinay/Library/Python/3.9/lib/python/site-packages/trulens_eval/feedback/provider/endpoint/base.py\", line 553, in _track_costs\n",
      "    result: T = thunk()\n",
      "  File \"/Users/abhinay/Library/Python/3.9/lib/python/site-packages/trulens_eval/feedback/feedback.py\", line 502, in <lambda>\n",
      "    lambda: self.imp(**ins)\n",
      "TypeError: groundedness_measure_with_cot_reasons() missing 1 required positional argument: 'statement'\n",
      "\n",
      "During handling of the above exception, another exception occurred:\n",
      "\n",
      "Traceback (most recent call last):\n",
      "  File \"/Users/abhinay/Library/Python/3.9/lib/python/site-packages/trulens_eval/feedback/feedback.py\", line 506, in run\n",
      "    raise RuntimeError(\n",
      "RuntimeError: Evaluation of groundedness_measure_with_cot_reasons failed on inputs: \n",
      "{'source': 'The final attributes that were used in the machine learning model '\n",
      "           'were maximum label length and averag\n",
      "groundedness_measure_with_cot_reasons() missing 1 required positional argument: 'statement'.\n",
      "\n",
      "Feedback Function exception caught: Traceback (most recent call last):\n",
      "  File \"/Users/abhinay/Library/Python/3.9/lib/python/site-packages/trulens_eval/feedback/feedback.py\", line 501, in run\n",
      "    result_and_meta, part_cost = Endpoint.track_all_costs_tally(\n",
      "  File \"/Users/abhinay/Library/Python/3.9/lib/python/site-packages/trulens_eval/feedback/provider/endpoint/base.py\", line 447, in track_all_costs_tally\n",
      "    result, cbs = Endpoint.track_all_costs(\n",
      "  File \"/Users/abhinay/Library/Python/3.9/lib/python/site-packages/trulens_eval/feedback/provider/endpoint/base.py\", line 396, in track_all_costs\n",
      "    return Endpoint._track_costs(thunk, with_endpoints=endpoints)\n",
      "  File \"/Users/abhinay/Library/Python/3.9/lib/python/site-packages/trulens_eval/feedback/provider/endpoint/base.py\", line 553, in _track_costs\n",
      "    result: T = thunk()\n",
      "  File \"/Users/abhinay/Library/Python/3.9/lib/python/site-packages/trulens_eval/feedback/feedback.py\", line 502, in <lambda>\n",
      "    lambda: self.imp(**ins)\n",
      "TypeError: groundedness_measure_with_cot_reasons() missing 1 required positional argument: 'statement'\n",
      "\n",
      "During handling of the above exception, another exception occurred:\n",
      "\n",
      "Traceback (most recent call last):\n",
      "  File \"/Users/abhinay/Library/Python/3.9/lib/python/site-packages/trulens_eval/feedback/feedback.py\", line 506, in run\n",
      "    raise RuntimeError(\n",
      "RuntimeError: Evaluation of groundedness_measure_with_cot_reasons failed on inputs: \n",
      "{'source': 'The evaluation metrics used in the given context are not '\n",
      "           'mentioned.'}\n",
      "groundedness_measure_with_cot_reasons() missing 1 required positional argument: 'statement'.\n",
      "\n",
      "Feedback Function exception caught: Traceback (most recent call last):\n",
      "  File \"/Users/abhinay/Library/Python/3.9/lib/python/site-packages/trulens_eval/feedback/feedback.py\", line 501, in run\n",
      "    result_and_meta, part_cost = Endpoint.track_all_costs_tally(\n",
      "  File \"/Users/abhinay/Library/Python/3.9/lib/python/site-packages/trulens_eval/feedback/provider/endpoint/base.py\", line 447, in track_all_costs_tally\n",
      "    result, cbs = Endpoint.track_all_costs(\n",
      "  File \"/Users/abhinay/Library/Python/3.9/lib/python/site-packages/trulens_eval/feedback/provider/endpoint/base.py\", line 396, in track_all_costs\n",
      "    return Endpoint._track_costs(thunk, with_endpoints=endpoints)\n",
      "  File \"/Users/abhinay/Library/Python/3.9/lib/python/site-packages/trulens_eval/feedback/provider/endpoint/base.py\", line 553, in _track_costs\n",
      "    result: T = thunk()\n",
      "  File \"/Users/abhinay/Library/Python/3.9/lib/python/site-packages/trulens_eval/feedback/feedback.py\", line 502, in <lambda>\n",
      "    lambda: self.imp(**ins)\n",
      "TypeError: groundedness_measure_with_cot_reasons() missing 1 required positional argument: 'statement'\n",
      "\n",
      "During handling of the above exception, another exception occurred:\n",
      "\n",
      "Traceback (most recent call last):\n",
      "  File \"/Users/abhinay/Library/Python/3.9/lib/python/site-packages/trulens_eval/feedback/feedback.py\", line 506, in run\n",
      "    raise RuntimeError(\n",
      "RuntimeError: Evaluation of groundedness_measure_with_cot_reasons failed on inputs: \n",
      "{'source': 'The references that were used include:\\n'\n",
      "           '1. Efﬁcient iP, “The Global DNS Threat Survey,” Tech.\\n'\n",
      "     \n",
      "groundedness_measure_with_cot_reasons() missing 1 required positional argument: 'statement'.\n",
      "\n",
      "Feedback Function exception caught: Traceback (most recent call last):\n",
      "  File \"/Users/abhinay/Library/Python/3.9/lib/python/site-packages/trulens_eval/feedback/feedback.py\", line 501, in run\n",
      "    result_and_meta, part_cost = Endpoint.track_all_costs_tally(\n",
      "  File \"/Users/abhinay/Library/Python/3.9/lib/python/site-packages/trulens_eval/feedback/provider/endpoint/base.py\", line 447, in track_all_costs_tally\n",
      "    result, cbs = Endpoint.track_all_costs(\n",
      "  File \"/Users/abhinay/Library/Python/3.9/lib/python/site-packages/trulens_eval/feedback/provider/endpoint/base.py\", line 396, in track_all_costs\n",
      "    return Endpoint._track_costs(thunk, with_endpoints=endpoints)\n",
      "  File \"/Users/abhinay/Library/Python/3.9/lib/python/site-packages/trulens_eval/feedback/provider/endpoint/base.py\", line 553, in _track_costs\n",
      "    result: T = thunk()\n",
      "  File \"/Users/abhinay/Library/Python/3.9/lib/python/site-packages/trulens_eval/feedback/feedback.py\", line 502, in <lambda>\n",
      "    lambda: self.imp(**ins)\n",
      "TypeError: groundedness_measure_with_cot_reasons() missing 1 required positional argument: 'statement'\n",
      "\n",
      "During handling of the above exception, another exception occurred:\n",
      "\n",
      "Traceback (most recent call last):\n",
      "  File \"/Users/abhinay/Library/Python/3.9/lib/python/site-packages/trulens_eval/feedback/feedback.py\", line 506, in run\n",
      "    raise RuntimeError(\n",
      "RuntimeError: Evaluation of groundedness_measure_with_cot_reasons failed on inputs: \n",
      "{'source': 'The context information does not provide any information about the '\n",
      "           'algorithms that were tested out.'}\n",
      "groundedness_measure_with_cot_reasons() missing 1 required positional argument: 'statement'.\n",
      "\n",
      "Feedback Function exception caught: Traceback (most recent call last):\n",
      "  File \"/Users/abhinay/Library/Python/3.9/lib/python/site-packages/trulens_eval/feedback/feedback.py\", line 501, in run\n",
      "    result_and_meta, part_cost = Endpoint.track_all_costs_tally(\n",
      "  File \"/Users/abhinay/Library/Python/3.9/lib/python/site-packages/trulens_eval/feedback/provider/endpoint/base.py\", line 447, in track_all_costs_tally\n",
      "    result, cbs = Endpoint.track_all_costs(\n",
      "  File \"/Users/abhinay/Library/Python/3.9/lib/python/site-packages/trulens_eval/feedback/provider/endpoint/base.py\", line 396, in track_all_costs\n",
      "    return Endpoint._track_costs(thunk, with_endpoints=endpoints)\n",
      "  File \"/Users/abhinay/Library/Python/3.9/lib/python/site-packages/trulens_eval/feedback/provider/endpoint/base.py\", line 553, in _track_costs\n",
      "    result: T = thunk()\n",
      "  File \"/Users/abhinay/Library/Python/3.9/lib/python/site-packages/trulens_eval/feedback/feedback.py\", line 502, in <lambda>\n",
      "    lambda: self.imp(**ins)\n",
      "TypeError: groundedness_measure_with_cot_reasons() missing 1 required positional argument: 'statement'\n",
      "\n",
      "During handling of the above exception, another exception occurred:\n",
      "\n",
      "Traceback (most recent call last):\n",
      "  File \"/Users/abhinay/Library/Python/3.9/lib/python/site-packages/trulens_eval/feedback/feedback.py\", line 506, in run\n",
      "    raise RuntimeError(\n",
      "RuntimeError: Evaluation of groundedness_measure_with_cot_reasons failed on inputs: \n",
      "{'source': 'The final goal of the authors was to investigate and establish an '\n",
      "           'upper bound on the volume of surrept\n",
      "groundedness_measure_with_cot_reasons() missing 1 required positional argument: 'statement'.\n",
      "\n",
      "Feedback Function exception caught: Traceback (most recent call last):\n",
      "  File \"/Users/abhinay/Library/Python/3.9/lib/python/site-packages/trulens_eval/feedback/feedback.py\", line 501, in run\n",
      "    result_and_meta, part_cost = Endpoint.track_all_costs_tally(\n",
      "  File \"/Users/abhinay/Library/Python/3.9/lib/python/site-packages/trulens_eval/feedback/provider/endpoint/base.py\", line 447, in track_all_costs_tally\n",
      "    result, cbs = Endpoint.track_all_costs(\n",
      "  File \"/Users/abhinay/Library/Python/3.9/lib/python/site-packages/trulens_eval/feedback/provider/endpoint/base.py\", line 396, in track_all_costs\n",
      "    return Endpoint._track_costs(thunk, with_endpoints=endpoints)\n",
      "  File \"/Users/abhinay/Library/Python/3.9/lib/python/site-packages/trulens_eval/feedback/provider/endpoint/base.py\", line 553, in _track_costs\n",
      "    result: T = thunk()\n",
      "  File \"/Users/abhinay/Library/Python/3.9/lib/python/site-packages/trulens_eval/feedback/feedback.py\", line 502, in <lambda>\n",
      "    lambda: self.imp(**ins)\n",
      "TypeError: groundedness_measure_with_cot_reasons() missing 1 required positional argument: 'statement'\n",
      "\n",
      "During handling of the above exception, another exception occurred:\n",
      "\n",
      "Traceback (most recent call last):\n",
      "  File \"/Users/abhinay/Library/Python/3.9/lib/python/site-packages/trulens_eval/feedback/feedback.py\", line 506, in run\n",
      "    raise RuntimeError(\n",
      "RuntimeError: Evaluation of groundedness_measure_with_cot_reasons failed on inputs: \n",
      "{'source': 'The article defines its attributes based on three main categories: '\n",
      "           'character count, entropy, and lengt\n",
      "groundedness_measure_with_cot_reasons() missing 1 required positional argument: 'statement'.\n",
      "\n",
      "Feedback Function exception caught: Traceback (most recent call last):\n",
      "  File \"/Users/abhinay/Library/Python/3.9/lib/python/site-packages/trulens_eval/feedback/feedback.py\", line 501, in run\n",
      "    result_and_meta, part_cost = Endpoint.track_all_costs_tally(\n",
      "  File \"/Users/abhinay/Library/Python/3.9/lib/python/site-packages/trulens_eval/feedback/provider/endpoint/base.py\", line 447, in track_all_costs_tally\n",
      "    result, cbs = Endpoint.track_all_costs(\n",
      "  File \"/Users/abhinay/Library/Python/3.9/lib/python/site-packages/trulens_eval/feedback/provider/endpoint/base.py\", line 396, in track_all_costs\n",
      "    return Endpoint._track_costs(thunk, with_endpoints=endpoints)\n",
      "  File \"/Users/abhinay/Library/Python/3.9/lib/python/site-packages/trulens_eval/feedback/provider/endpoint/base.py\", line 553, in _track_costs\n",
      "    result: T = thunk()\n",
      "  File \"/Users/abhinay/Library/Python/3.9/lib/python/site-packages/trulens_eval/feedback/feedback.py\", line 502, in <lambda>\n",
      "    lambda: self.imp(**ins)\n",
      "TypeError: groundedness_measure_with_cot_reasons() missing 1 required positional argument: 'statement'\n",
      "\n",
      "During handling of the above exception, another exception occurred:\n",
      "\n",
      "Traceback (most recent call last):\n",
      "  File \"/Users/abhinay/Library/Python/3.9/lib/python/site-packages/trulens_eval/feedback/feedback.py\", line 506, in run\n",
      "    raise RuntimeError(\n",
      "RuntimeError: Evaluation of groundedness_measure_with_cot_reasons failed on inputs: \n",
      "{'source': 'The paper is trying to accomplish the task of real-time detection '\n",
      "           'of DNS exfiltration and tunneling fr\n",
      "groundedness_measure_with_cot_reasons() missing 1 required positional argument: 'statement'.\n",
      "\n"
     ]
    },
    {
     "name": "stderr",
     "output_type": "stream",
     "text": [
      "Feedback Function exception caught: Traceback (most recent call last):\n",
      "  File \"/Users/abhinay/Library/Python/3.9/lib/python/site-packages/trulens_eval/feedback/feedback.py\", line 501, in run\n",
      "    result_and_meta, part_cost = Endpoint.track_all_costs_tally(\n",
      "  File \"/Users/abhinay/Library/Python/3.9/lib/python/site-packages/trulens_eval/feedback/provider/endpoint/base.py\", line 447, in track_all_costs_tally\n",
      "    result, cbs = Endpoint.track_all_costs(\n",
      "  File \"/Users/abhinay/Library/Python/3.9/lib/python/site-packages/trulens_eval/feedback/provider/endpoint/base.py\", line 396, in track_all_costs\n",
      "    return Endpoint._track_costs(thunk, with_endpoints=endpoints)\n",
      "  File \"/Users/abhinay/Library/Python/3.9/lib/python/site-packages/trulens_eval/feedback/provider/endpoint/base.py\", line 553, in _track_costs\n",
      "    result: T = thunk()\n",
      "  File \"/Users/abhinay/Library/Python/3.9/lib/python/site-packages/trulens_eval/feedback/feedback.py\", line 502, in <lambda>\n",
      "    lambda: self.imp(**ins)\n",
      "TypeError: groundedness_measure_with_cot_reasons() missing 1 required positional argument: 'statement'\n",
      "\n",
      "During handling of the above exception, another exception occurred:\n",
      "\n",
      "Traceback (most recent call last):\n",
      "  File \"/Users/abhinay/Library/Python/3.9/lib/python/site-packages/trulens_eval/feedback/feedback.py\", line 506, in run\n",
      "    raise RuntimeError(\n",
      "RuntimeError: Evaluation of groundedness_measure_with_cot_reasons failed on inputs: \n",
      "{'source': 'The data set was collected over a one-week period from 30-Jul-2018 '\n",
      "           'to 5-Aug-2018.'}\n",
      "groundedness_measure_with_cot_reasons() missing 1 required positional argument: 'statement'.\n",
      "\n",
      "Run of <lambda> in <Thread(TP.submit with debug timeout_0, started 123145638137856)> timed out after 600.0 second(s).\n",
      "/Users/abhinay/Library/Python/3.9/lib/python/site-packages/trulens_eval/tru.py:221\n",
      "exception calling callback for <Future at 0x1c16a9bb0 state=finished raised TimeoutError>\n",
      "Traceback (most recent call last):\n",
      "  File \"/Library/Developer/CommandLineTools/Library/Frameworks/Python3.framework/Versions/3.9/lib/python3.9/concurrent/futures/_base.py\", line 329, in _invoke_callbacks\n",
      "    callback(self)\n",
      "  File \"/Users/abhinay/Library/Python/3.9/lib/python/site-packages/trulens_eval/app.py\", line 926, in _add_future_feedback\n",
      "    _, res = future.result()\n",
      "  File \"/Library/Developer/CommandLineTools/Library/Frameworks/Python3.framework/Versions/3.9/lib/python3.9/concurrent/futures/_base.py\", line 438, in result\n",
      "    return self.__get_result()\n",
      "  File \"/Library/Developer/CommandLineTools/Library/Frameworks/Python3.framework/Versions/3.9/lib/python3.9/concurrent/futures/_base.py\", line 390, in __get_result\n",
      "    raise self._exception\n",
      "  File \"/Library/Developer/CommandLineTools/Library/Frameworks/Python3.framework/Versions/3.9/lib/python3.9/concurrent/futures/thread.py\", line 52, in run\n",
      "    result = self.fn(*self.args, **self.kwargs)\n",
      "  File \"/Users/abhinay/Library/Python/3.9/lib/python/site-packages/trulens_eval/utils/python.py\", line 223, in _future_target_wrapper\n",
      "    return func(*args, **kwargs)\n",
      "  File \"/Users/abhinay/Library/Python/3.9/lib/python/site-packages/trulens_eval/utils/threading.py\", line 91, in _run_with_timeout\n",
      "    raise e\n",
      "  File \"/Users/abhinay/Library/Python/3.9/lib/python/site-packages/trulens_eval/utils/threading.py\", line 82, in _run_with_timeout\n",
      "    res: T = fut.result(timeout=timeout)\n",
      "  File \"/Library/Developer/CommandLineTools/Library/Frameworks/Python3.framework/Versions/3.9/lib/python3.9/concurrent/futures/_base.py\", line 447, in result\n",
      "    raise TimeoutError()\n",
      "concurrent.futures._base.TimeoutError\n"
     ]
    }
   ],
   "source": [
    "run_evals(eval_questions, tru_recorder_1, sentence_window_engine_1)"
   ]
  },
  {
   "cell_type": "code",
   "execution_count": null,
   "metadata": {},
   "outputs": [],
   "source": [
    "  "
   ]
  }
 ],
 "metadata": {
  "kernelspec": {
   "display_name": "Python 3",
   "language": "python",
   "name": "python3"
  },
  "language_info": {
   "codemirror_mode": {
    "name": "ipython",
    "version": 3
   },
   "file_extension": ".py",
   "mimetype": "text/x-python",
   "name": "python",
   "nbconvert_exporter": "python",
   "pygments_lexer": "ipython3",
   "version": "3.9.6"
  }
 },
 "nbformat": 4,
 "nbformat_minor": 2
}
