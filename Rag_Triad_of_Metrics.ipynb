{
 "cells": [
  {
   "cell_type": "code",
   "execution_count": 1,
   "metadata": {},
   "outputs": [],
   "source": [
    "import warnings\n",
    "warnings.filterwarnings('ignore')"
   ]
  },
  {
   "cell_type": "code",
   "execution_count": 2,
   "metadata": {},
   "outputs": [],
   "source": [
    "import utils\n",
    "\n",
    "import os \n",
    "import openai\n",
    "openai.api_key = utils.get_openai_api_key()"
   ]
  },
  {
   "cell_type": "code",
   "execution_count": 5,
   "metadata": {},
   "outputs": [],
   "source": [
    "from trulens_eval import Tru\n",
    "\n",
    "tru = Tru()\n"
   ]
  },
  {
   "cell_type": "code",
   "execution_count": 7,
   "metadata": {},
   "outputs": [],
   "source": [
    "from llama_index import SimpleDirectoryReader\n",
    "\n",
    "documents = SimpleDirectoryReader(input_files=[\"/Users/abhinay/Desktop/Real-Time_Detection_of_DNS_Exfiltration_and_Tunneling_from_Enterprise_Networks-1.pdf\"]\n",
    "                                 ).load_data()"
   ]
  },
  {
   "cell_type": "code",
   "execution_count": 8,
   "metadata": {},
   "outputs": [],
   "source": [
    "from llama_index import Document\n",
    "\n",
    "document = Document(text = \"\\n\\n\".join(doc.text for doc in documents))\n"
   ]
  },
  {
   "cell_type": "code",
   "execution_count": 9,
   "metadata": {},
   "outputs": [],
   "source": [
    "from utils import build_sentence_window_index\n",
    "\n",
    "from llama_index.llms import OpenAI\n",
    "\n",
    "llm = OpenAI(model=\"gpt-3.5-turbo\", temperature=0.1)\n",
    "\n",
    "sentence_index = build_sentence_window_index(\n",
    "    document,\n",
    "    llm,\n",
    "    embed_model=\"local:BAAI/bge-small-en-v1.5\",\n",
    "    save_dir=\"sentence_index_v2\"\n",
    ")"
   ]
  },
  {
   "cell_type": "code",
   "execution_count": 10,
   "metadata": {},
   "outputs": [],
   "source": [
    "from utils import get_sentence_window_query_engine\n",
    "\n",
    "sentence_window_engine = get_sentence_window_query_engine(sentence_index)"
   ]
  },
  {
   "cell_type": "code",
   "execution_count": null,
   "metadata": {},
   "outputs": [],
   "source": [
    "output = sentence_window_engine.query(\"what are all the final attributes that were used\")\n",
    "output.response"
   ]
  },
  {
   "cell_type": "code",
   "execution_count": 11,
   "metadata": {},
   "outputs": [],
   "source": [
    "import nest_asyncio\n",
    "\n",
    "nest_asyncio.apply()"
   ]
  },
  {
   "cell_type": "code",
   "execution_count": 12,
   "metadata": {},
   "outputs": [],
   "source": [
    "from trulens_eval import OpenAI as fOpenAI\n",
    "\n",
    "provider = fOpenAI()"
   ]
  },
  {
   "cell_type": "code",
   "execution_count": 13,
   "metadata": {},
   "outputs": [
    {
     "name": "stdout",
     "output_type": "stream",
     "text": [
      "✅ In relevance_with_cot_reasons, input prompt will be set to __record__.main_input or `Select.RecordInput` .\n",
      "✅ In relevance_with_cot_reasons, input response will be set to __record__.main_output or `Select.RecordOutput` .\n"
     ]
    }
   ],
   "source": [
    "from trulens_eval import Feedback\n",
    "f_qa_relevence = Feedback(provider.relevance_with_cot_reasons).on_input_output()"
   ]
  },
  {
   "cell_type": "code",
   "execution_count": 14,
   "metadata": {},
   "outputs": [],
   "source": [
    "from trulens_eval import TruLlama\n",
    "\n",
    "context_selection = TruLlama.select_source_nodes().node.text"
   ]
  },
  {
   "cell_type": "code",
   "execution_count": 15,
   "metadata": {},
   "outputs": [
    {
     "name": "stdout",
     "output_type": "stream",
     "text": [
      "✅ In context relevane, input question will be set to __record__.main_input or `Select.RecordInput` .\n",
      "✅ In context relevane, input statement will be set to __record__.app.query.rets.source_nodes[:].node.text .\n"
     ]
    }
   ],
   "source": [
    "import numpy as np\n",
    "\n",
    "f_qs_relevanve = (\n",
    "    Feedback(provider.qs_relevance_with_cot_reasons,\n",
    "             name = \"context relevane\").on_input().on(context_selection).aggregate(np.mean)\n",
    ")"
   ]
  },
  {
   "cell_type": "code",
   "execution_count": 16,
   "metadata": {},
   "outputs": [],
   "source": [
    "from trulens_eval.feedback import Groundedness\n",
    "\n",
    "grounded = Groundedness(groundedness_provider=provider)"
   ]
  },
  {
   "cell_type": "code",
   "execution_count": 17,
   "metadata": {},
   "outputs": [
    {
     "name": "stdout",
     "output_type": "stream",
     "text": [
      "✅ In grounded, input source will be set to __record__.app.query.rets.source_nodes[:].node.text .\n",
      "✅ In grounded, input statement will be set to __record__.main_output or `Select.RecordOutput` .\n"
     ]
    }
   ],
   "source": [
    "f_groundedness = (Feedback(grounded.groundedness_measure_with_cot_reasons, \n",
    "                           name = \"grounded\").on(context_selection)\n",
    "                           .on_output()\n",
    "                           .aggregate(grounded.grounded_statements_aggregator))"
   ]
  },
  {
   "cell_type": "code",
   "execution_count": 18,
   "metadata": {},
   "outputs": [],
   "source": [
    "from trulens_eval import TruLlama\n",
    "from trulens_eval import FeedbackMode\n",
    "\n",
    "tru_recorder = TruLlama(\n",
    "    sentence_window_engine,\n",
    "    app_id = \"app_1\",\n",
    "    feedbacks = [\n",
    "        f_qa_relevence,\n",
    "        f_groundedness,\n",
    "        f_qs_relevanve\n",
    "    ]\n",
    ")"
   ]
  },
  {
   "cell_type": "code",
   "execution_count": 23,
   "metadata": {},
   "outputs": [],
   "source": [
    "eval_questions = []\n",
    "with open('eval_questions.txt', 'r') as file:\n",
    "    for line in file:\n",
    "        item = line.strip()\n",
    "        eval_questions.append(item)"
   ]
  },
  {
   "cell_type": "code",
   "execution_count": 24,
   "metadata": {},
   "outputs": [
    {
     "data": {
      "text/plain": [
       "['what were the final parameters that were used in the model',\n",
       " 'what were the final attributes that were used',\n",
       " 'what were all the evaluation metrics used',\n",
       " 'what were all the references that was used',\n",
       " 'what were all the algorithms that were tested out',\n",
       " 'what was the final goal of the author and did they achieve it',\n",
       " 'what does each attribute mean in the aritcle',\n",
       " 'what is is that this paper is trying to accomplish',\n",
       " 'How was the data set collected',\n",
       " 'what were the final parameters that were used in the model',\n",
       " 'what were the final attributes that were used',\n",
       " 'what were all the evaluation metrics used',\n",
       " 'what were all the references that was used',\n",
       " 'what were all the algorithms that were tested out',\n",
       " 'what was the final goal of the author and did they achieve it',\n",
       " 'what does each attribute mean in the aritcle',\n",
       " 'what is is that this paper is trying to accomplish',\n",
       " 'How was the data set collected']"
      ]
     },
     "execution_count": 24,
     "metadata": {},
     "output_type": "execute_result"
    }
   ],
   "source": [
    "eval_questions"
   ]
  },
  {
   "cell_type": "code",
   "execution_count": 26,
   "metadata": {},
   "outputs": [
    {
     "name": "stderr",
     "output_type": "stream",
     "text": [
      "huggingface/tokenizers: The current process just got forked, after parallelism has already been used. Disabling parallelism to avoid deadlocks...\n",
      "To disable this warning, you can either:\n",
      "\t- Avoid using `tokenizers` before the fork if possible\n",
      "\t- Explicitly set the environment variable TOKENIZERS_PARALLELISM=(true | false)\n"
     ]
    }
   ],
   "source": [
    "for question in eval_questions:\n",
    "    with tru_recorder as recording:\n",
    "        sentence_window_engine.query(question)\n"
   ]
  },
  {
   "cell_type": "code",
   "execution_count": 27,
   "metadata": {},
   "outputs": [
    {
     "data": {
      "text/html": [
       "<div>\n",
       "<style scoped>\n",
       "    .dataframe tbody tr th:only-of-type {\n",
       "        vertical-align: middle;\n",
       "    }\n",
       "\n",
       "    .dataframe tbody tr th {\n",
       "        vertical-align: top;\n",
       "    }\n",
       "\n",
       "    .dataframe thead th {\n",
       "        text-align: right;\n",
       "    }\n",
       "</style>\n",
       "<table border=\"1\" class=\"dataframe\">\n",
       "  <thead>\n",
       "    <tr style=\"text-align: right;\">\n",
       "      <th></th>\n",
       "      <th>app_id</th>\n",
       "      <th>app_json</th>\n",
       "      <th>type</th>\n",
       "      <th>record_id</th>\n",
       "      <th>input</th>\n",
       "      <th>output</th>\n",
       "      <th>tags</th>\n",
       "      <th>record_json</th>\n",
       "      <th>cost_json</th>\n",
       "      <th>perf_json</th>\n",
       "      <th>ts</th>\n",
       "      <th>relevance_with_cot_reasons</th>\n",
       "      <th>grounded</th>\n",
       "      <th>context relevane</th>\n",
       "      <th>relevance_with_cot_reasons_calls</th>\n",
       "      <th>grounded_calls</th>\n",
       "      <th>context relevane_calls</th>\n",
       "      <th>latency</th>\n",
       "      <th>total_tokens</th>\n",
       "      <th>total_cost</th>\n",
       "    </tr>\n",
       "  </thead>\n",
       "  <tbody>\n",
       "    <tr>\n",
       "      <th>0</th>\n",
       "      <td>app_1</td>\n",
       "      <td>{\"tru_class_info\": {\"name\": \"TruLlama\", \"modul...</td>\n",
       "      <td>RetrieverQueryEngine(llama_index.query_engine....</td>\n",
       "      <td>record_hash_3d0da85ce86e0839c9f2db7a5c9611f4</td>\n",
       "      <td>\"what were the final parameters that were used...</td>\n",
       "      <td>\"The final parameters used in the model were a...</td>\n",
       "      <td>-</td>\n",
       "      <td>{\"record_id\": \"record_hash_3d0da85ce86e0839c9f...</td>\n",
       "      <td>{\"n_requests\": 1, \"n_successful_requests\": 1, ...</td>\n",
       "      <td>{\"start_time\": \"2023-12-20T20:06:48.297098\", \"...</td>\n",
       "      <td>2023-12-20T20:06:58.800071</td>\n",
       "      <td>1.0</td>\n",
       "      <td>1.0</td>\n",
       "      <td>0.85</td>\n",
       "      <td>[{'args': {'prompt': 'what were the final para...</td>\n",
       "      <td>[{'args': {'source': 'We use the num-\n",
       "ber of l...</td>\n",
       "      <td>[{'args': {'question': 'what were the final pa...</td>\n",
       "      <td>10</td>\n",
       "      <td>908</td>\n",
       "      <td>0.001370</td>\n",
       "    </tr>\n",
       "    <tr>\n",
       "      <th>1</th>\n",
       "      <td>app_1</td>\n",
       "      <td>{\"tru_class_info\": {\"name\": \"TruLlama\", \"modul...</td>\n",
       "      <td>RetrieverQueryEngine(llama_index.query_engine....</td>\n",
       "      <td>record_hash_880b92c41fbf2bfc3fdfcb37adaac93c</td>\n",
       "      <td>\"what were the final attributes that were used\"</td>\n",
       "      <td>\"The final attributes that were used in the ma...</td>\n",
       "      <td>-</td>\n",
       "      <td>{\"record_id\": \"record_hash_880b92c41fbf2bfc3fd...</td>\n",
       "      <td>{\"n_requests\": 1, \"n_successful_requests\": 1, ...</td>\n",
       "      <td>{\"start_time\": \"2023-12-20T20:06:59.289101\", \"...</td>\n",
       "      <td>2023-12-20T20:07:02.775674</td>\n",
       "      <td>1.0</td>\n",
       "      <td>1.0</td>\n",
       "      <td>0.85</td>\n",
       "      <td>[{'args': {'prompt': 'what were the final attr...</td>\n",
       "      <td>[{'args': {'source': 'We use the num-\n",
       "ber of l...</td>\n",
       "      <td>[{'args': {'question': 'what were the final at...</td>\n",
       "      <td>3</td>\n",
       "      <td>562</td>\n",
       "      <td>0.000874</td>\n",
       "    </tr>\n",
       "    <tr>\n",
       "      <th>2</th>\n",
       "      <td>app_1</td>\n",
       "      <td>{\"tru_class_info\": {\"name\": \"TruLlama\", \"modul...</td>\n",
       "      <td>RetrieverQueryEngine(llama_index.query_engine....</td>\n",
       "      <td>record_hash_c34a78e77850f4754ab468abcd6f99e2</td>\n",
       "      <td>\"what were all the evaluation metrics used\"</td>\n",
       "      <td>\"The evaluation metrics used in the given cont...</td>\n",
       "      <td>-</td>\n",
       "      <td>{\"record_id\": \"record_hash_c34a78e77850f4754ab...</td>\n",
       "      <td>{\"n_requests\": 1, \"n_successful_requests\": 1, ...</td>\n",
       "      <td>{\"start_time\": \"2023-12-20T20:07:03.249717\", \"...</td>\n",
       "      <td>2023-12-20T20:07:08.006388</td>\n",
       "      <td>1.0</td>\n",
       "      <td>1.0</td>\n",
       "      <td>0.80</td>\n",
       "      <td>[{'args': {'prompt': 'what were all the evalua...</td>\n",
       "      <td>[{'args': {'source': 'Input Output Days 1-4 Da...</td>\n",
       "      <td>[{'args': {'question': 'what were all the eval...</td>\n",
       "      <td>4</td>\n",
       "      <td>812</td>\n",
       "      <td>0.001265</td>\n",
       "    </tr>\n",
       "    <tr>\n",
       "      <th>3</th>\n",
       "      <td>app_1</td>\n",
       "      <td>{\"tru_class_info\": {\"name\": \"TruLlama\", \"modul...</td>\n",
       "      <td>RetrieverQueryEngine(llama_index.query_engine....</td>\n",
       "      <td>record_hash_ad66a5aae7ed4df88fd2ba2f193274fc</td>\n",
       "      <td>\"what were all the references that was used\"</td>\n",
       "      <td>\"The references that were used in the given co...</td>\n",
       "      <td>-</td>\n",
       "      <td>{\"record_id\": \"record_hash_ad66a5aae7ed4df88fd...</td>\n",
       "      <td>{\"n_requests\": 1, \"n_successful_requests\": 1, ...</td>\n",
       "      <td>{\"start_time\": \"2023-12-20T20:07:08.453769\", \"...</td>\n",
       "      <td>2023-12-20T20:07:13.726252</td>\n",
       "      <td>1.0</td>\n",
       "      <td>0.5</td>\n",
       "      <td>0.40</td>\n",
       "      <td>[{'args': {'prompt': 'what were all the refere...</td>\n",
       "      <td>[{'args': {'source': '2019 IFIP/IEEE Internati...</td>\n",
       "      <td>[{'args': {'question': 'what were all the refe...</td>\n",
       "      <td>5</td>\n",
       "      <td>413</td>\n",
       "      <td>0.000640</td>\n",
       "    </tr>\n",
       "    <tr>\n",
       "      <th>4</th>\n",
       "      <td>app_1</td>\n",
       "      <td>{\"tru_class_info\": {\"name\": \"TruLlama\", \"modul...</td>\n",
       "      <td>RetrieverQueryEngine(llama_index.query_engine....</td>\n",
       "      <td>record_hash_bd4a4b24d2ca49bba9cbaf0d09f96f84</td>\n",
       "      <td>\"what were all the algorithms that were tested...</td>\n",
       "      <td>\"The context information does not provide any ...</td>\n",
       "      <td>-</td>\n",
       "      <td>{\"record_id\": \"record_hash_bd4a4b24d2ca49bba9c...</td>\n",
       "      <td>{\"n_requests\": 1, \"n_successful_requests\": 1, ...</td>\n",
       "      <td>{\"start_time\": \"2023-12-20T20:07:14.174074\", \"...</td>\n",
       "      <td>2023-12-20T20:07:16.375417</td>\n",
       "      <td>0.0</td>\n",
       "      <td>0.0</td>\n",
       "      <td>0.00</td>\n",
       "      <td>[{'args': {'prompt': 'what were all the algori...</td>\n",
       "      <td>[{'args': {'source': 'Shen, M. Shashanka, and ...</td>\n",
       "      <td>[{'args': {'question': 'what were all the algo...</td>\n",
       "      <td>2</td>\n",
       "      <td>522</td>\n",
       "      <td>0.000791</td>\n",
       "    </tr>\n",
       "  </tbody>\n",
       "</table>\n",
       "</div>"
      ],
      "text/plain": [
       "  app_id                                           app_json  \\\n",
       "0  app_1  {\"tru_class_info\": {\"name\": \"TruLlama\", \"modul...   \n",
       "1  app_1  {\"tru_class_info\": {\"name\": \"TruLlama\", \"modul...   \n",
       "2  app_1  {\"tru_class_info\": {\"name\": \"TruLlama\", \"modul...   \n",
       "3  app_1  {\"tru_class_info\": {\"name\": \"TruLlama\", \"modul...   \n",
       "4  app_1  {\"tru_class_info\": {\"name\": \"TruLlama\", \"modul...   \n",
       "\n",
       "                                                type  \\\n",
       "0  RetrieverQueryEngine(llama_index.query_engine....   \n",
       "1  RetrieverQueryEngine(llama_index.query_engine....   \n",
       "2  RetrieverQueryEngine(llama_index.query_engine....   \n",
       "3  RetrieverQueryEngine(llama_index.query_engine....   \n",
       "4  RetrieverQueryEngine(llama_index.query_engine....   \n",
       "\n",
       "                                      record_id  \\\n",
       "0  record_hash_3d0da85ce86e0839c9f2db7a5c9611f4   \n",
       "1  record_hash_880b92c41fbf2bfc3fdfcb37adaac93c   \n",
       "2  record_hash_c34a78e77850f4754ab468abcd6f99e2   \n",
       "3  record_hash_ad66a5aae7ed4df88fd2ba2f193274fc   \n",
       "4  record_hash_bd4a4b24d2ca49bba9cbaf0d09f96f84   \n",
       "\n",
       "                                               input  \\\n",
       "0  \"what were the final parameters that were used...   \n",
       "1    \"what were the final attributes that were used\"   \n",
       "2        \"what were all the evaluation metrics used\"   \n",
       "3       \"what were all the references that was used\"   \n",
       "4  \"what were all the algorithms that were tested...   \n",
       "\n",
       "                                              output tags  \\\n",
       "0  \"The final parameters used in the model were a...    -   \n",
       "1  \"The final attributes that were used in the ma...    -   \n",
       "2  \"The evaluation metrics used in the given cont...    -   \n",
       "3  \"The references that were used in the given co...    -   \n",
       "4  \"The context information does not provide any ...    -   \n",
       "\n",
       "                                         record_json  \\\n",
       "0  {\"record_id\": \"record_hash_3d0da85ce86e0839c9f...   \n",
       "1  {\"record_id\": \"record_hash_880b92c41fbf2bfc3fd...   \n",
       "2  {\"record_id\": \"record_hash_c34a78e77850f4754ab...   \n",
       "3  {\"record_id\": \"record_hash_ad66a5aae7ed4df88fd...   \n",
       "4  {\"record_id\": \"record_hash_bd4a4b24d2ca49bba9c...   \n",
       "\n",
       "                                           cost_json  \\\n",
       "0  {\"n_requests\": 1, \"n_successful_requests\": 1, ...   \n",
       "1  {\"n_requests\": 1, \"n_successful_requests\": 1, ...   \n",
       "2  {\"n_requests\": 1, \"n_successful_requests\": 1, ...   \n",
       "3  {\"n_requests\": 1, \"n_successful_requests\": 1, ...   \n",
       "4  {\"n_requests\": 1, \"n_successful_requests\": 1, ...   \n",
       "\n",
       "                                           perf_json  \\\n",
       "0  {\"start_time\": \"2023-12-20T20:06:48.297098\", \"...   \n",
       "1  {\"start_time\": \"2023-12-20T20:06:59.289101\", \"...   \n",
       "2  {\"start_time\": \"2023-12-20T20:07:03.249717\", \"...   \n",
       "3  {\"start_time\": \"2023-12-20T20:07:08.453769\", \"...   \n",
       "4  {\"start_time\": \"2023-12-20T20:07:14.174074\", \"...   \n",
       "\n",
       "                           ts  relevance_with_cot_reasons  grounded  \\\n",
       "0  2023-12-20T20:06:58.800071                         1.0       1.0   \n",
       "1  2023-12-20T20:07:02.775674                         1.0       1.0   \n",
       "2  2023-12-20T20:07:08.006388                         1.0       1.0   \n",
       "3  2023-12-20T20:07:13.726252                         1.0       0.5   \n",
       "4  2023-12-20T20:07:16.375417                         0.0       0.0   \n",
       "\n",
       "   context relevane                   relevance_with_cot_reasons_calls  \\\n",
       "0              0.85  [{'args': {'prompt': 'what were the final para...   \n",
       "1              0.85  [{'args': {'prompt': 'what were the final attr...   \n",
       "2              0.80  [{'args': {'prompt': 'what were all the evalua...   \n",
       "3              0.40  [{'args': {'prompt': 'what were all the refere...   \n",
       "4              0.00  [{'args': {'prompt': 'what were all the algori...   \n",
       "\n",
       "                                      grounded_calls  \\\n",
       "0  [{'args': {'source': 'We use the num-\n",
       "ber of l...   \n",
       "1  [{'args': {'source': 'We use the num-\n",
       "ber of l...   \n",
       "2  [{'args': {'source': 'Input Output Days 1-4 Da...   \n",
       "3  [{'args': {'source': '2019 IFIP/IEEE Internati...   \n",
       "4  [{'args': {'source': 'Shen, M. Shashanka, and ...   \n",
       "\n",
       "                              context relevane_calls  latency  total_tokens  \\\n",
       "0  [{'args': {'question': 'what were the final pa...       10           908   \n",
       "1  [{'args': {'question': 'what were the final at...        3           562   \n",
       "2  [{'args': {'question': 'what were all the eval...        4           812   \n",
       "3  [{'args': {'question': 'what were all the refe...        5           413   \n",
       "4  [{'args': {'question': 'what were all the algo...        2           522   \n",
       "\n",
       "   total_cost  \n",
       "0    0.001370  \n",
       "1    0.000874  \n",
       "2    0.001265  \n",
       "3    0.000640  \n",
       "4    0.000791  "
      ]
     },
     "execution_count": 27,
     "metadata": {},
     "output_type": "execute_result"
    }
   ],
   "source": [
    "records, feedback = tru.get_records_and_feedback(app_ids=[])\n",
    "records.head()"
   ]
  },
  {
   "cell_type": "code",
   "execution_count": 28,
   "metadata": {},
   "outputs": [
    {
     "data": {
      "text/html": [
       "<div>\n",
       "<style scoped>\n",
       "    .dataframe tbody tr th:only-of-type {\n",
       "        vertical-align: middle;\n",
       "    }\n",
       "\n",
       "    .dataframe tbody tr th {\n",
       "        vertical-align: top;\n",
       "    }\n",
       "\n",
       "    .dataframe thead th {\n",
       "        text-align: right;\n",
       "    }\n",
       "</style>\n",
       "<table border=\"1\" class=\"dataframe\">\n",
       "  <thead>\n",
       "    <tr style=\"text-align: right;\">\n",
       "      <th></th>\n",
       "      <th>input</th>\n",
       "      <th>output</th>\n",
       "      <th>context relevane</th>\n",
       "      <th>grounded</th>\n",
       "      <th>relevance_with_cot_reasons</th>\n",
       "    </tr>\n",
       "  </thead>\n",
       "  <tbody>\n",
       "    <tr>\n",
       "      <th>0</th>\n",
       "      <td>\"what were the final parameters that were used in the model\"</td>\n",
       "      <td>\"The final parameters used in the model were a number of trees equal to 2.\"</td>\n",
       "      <td>0.85</td>\n",
       "      <td>1.000000</td>\n",
       "      <td>1.0</td>\n",
       "    </tr>\n",
       "    <tr>\n",
       "      <th>1</th>\n",
       "      <td>\"what were the final attributes that were used\"</td>\n",
       "      <td>\"The final attributes that were used in the machine learning model are the number of labels, maximum label length, average label length, total count of characters in the FQDN, count of characters in the sub-domain, count of uppercase characters in the query name, and count of numerical characters in the query name.\"</td>\n",
       "      <td>0.85</td>\n",
       "      <td>1.000000</td>\n",
       "      <td>1.0</td>\n",
       "    </tr>\n",
       "    <tr>\n",
       "      <th>2</th>\n",
       "      <td>\"what were all the evaluation metrics used\"</td>\n",
       "      <td>\"The evaluation metrics used in the given context are:\\n1. Accuracy: The accuracy of the trained model for benign instances was cross-validated and tested. The rate of detection (normal versus anomalous) for the benign instances was measured.\\n2. Detection Rate: The detection rate for malicious DNS queries generated using their tool was tested.\\n3. Performance: The performance of the scheme in real-time on live 10 Gbps traffic streams from the two organizations was quantified.\"</td>\n",
       "      <td>0.80</td>\n",
       "      <td>1.000000</td>\n",
       "      <td>1.0</td>\n",
       "    </tr>\n",
       "    <tr>\n",
       "      <th>3</th>\n",
       "      <td>\"what were all the references that was used\"</td>\n",
       "      <td>\"The references that were used in the given context are:\\n1. Ef\\ufb01cient iP, \\u201cThe Global DNS Threat Survey,\\u201d Tech. Rep., 2017.\\n2. B. Krebs.\"</td>\n",
       "      <td>0.40</td>\n",
       "      <td>0.500000</td>\n",
       "      <td>1.0</td>\n",
       "    </tr>\n",
       "    <tr>\n",
       "      <th>4</th>\n",
       "      <td>\"what were all the algorithms that were tested out\"</td>\n",
       "      <td>\"The context information does not provide any specific information about the algorithms that were tested out.\"</td>\n",
       "      <td>0.00</td>\n",
       "      <td>0.000000</td>\n",
       "      <td>0.0</td>\n",
       "    </tr>\n",
       "    <tr>\n",
       "      <th>5</th>\n",
       "      <td>\"what was the final goal of the author and did they achieve it\"</td>\n",
       "      <td>\"The final goal of the author was to establish an upper bound on the volume of surreptitious communication by investigating inter-query time and query record type. It is not mentioned in the context whether the author achieved this goal or not.\"</td>\n",
       "      <td>0.25</td>\n",
       "      <td>1.000000</td>\n",
       "      <td>0.9</td>\n",
       "    </tr>\n",
       "    <tr>\n",
       "      <th>6</th>\n",
       "      <td>\"what does each attribute mean in the aritcle\"</td>\n",
       "      <td>\"The attributes mentioned in the article are used to analyze DNS query packets and determine the degree of non-readability or strength of encryption. Here is the meaning of each attribute:\\n\\n1. Number of Labels: Refers to the number of labels (separated by dots) in the query name. Certain patterns of labels are often used in DNS exfiltration/tunneling traffic.\\n\\n2. Maximum Label Length: Represents the maximum length of a label in the fully qualified domain name (FQDN). It is one of the attributes used in the machine learning model.\\n\\n3. Average Label Length: Represents the average length of labels in the FQDN. It is another attribute used in the machine learning model.\\n\\n4. Total Count of Characters in FQDN: Indicates the total number of characters in the FQDN. More characters suggest that the query name may carry embedded information for an outside host.\\n\\n5. Count of Characters in Sub-Domain: Refers to the count of characters in the sub-domain portion of the FQDN. This attribute helps identify if the query name is benign or malicious.\\n\\n6. Count of Uppercase Characters: Represents the count of uppercase characters in the query name. A high fraction of uppercase characters may indicate encrypted or encoded data.\\n\\n7. Count of Numerical Characters: Represents the count of numerical characters in the query name. Similar to uppercase characters, a high fraction of numerical characters may suggest encrypted or encoded data. However, not all encrypted data is necessarily malicious.\"</td>\n",
       "      <td>0.85</td>\n",
       "      <td>0.888889</td>\n",
       "      <td>1.0</td>\n",
       "    </tr>\n",
       "    <tr>\n",
       "      <th>7</th>\n",
       "      <td>\"what is is that this paper is trying to accomplish\"</td>\n",
       "      <td>\"The paper is trying to accomplish training an anomaly detection machine using benign data and testing it with the remaining data.\"</td>\n",
       "      <td>0.10</td>\n",
       "      <td>1.000000</td>\n",
       "      <td>1.0</td>\n",
       "    </tr>\n",
       "    <tr>\n",
       "      <th>8</th>\n",
       "      <td>\"How was the data set collected\"</td>\n",
       "      <td>\"The data set was collected over a one-week period from 30-Jul-2018 to 5-Aug-2018.\"</td>\n",
       "      <td>0.85</td>\n",
       "      <td>1.000000</td>\n",
       "      <td>1.0</td>\n",
       "    </tr>\n",
       "    <tr>\n",
       "      <th>9</th>\n",
       "      <td>\"what were the final parameters that were used in the model\"</td>\n",
       "      <td>\"The final parameters used in the model were a number of trees equal to 2.\"</td>\n",
       "      <td>0.85</td>\n",
       "      <td>1.000000</td>\n",
       "      <td>1.0</td>\n",
       "    </tr>\n",
       "    <tr>\n",
       "      <th>10</th>\n",
       "      <td>\"what were the final attributes that were used\"</td>\n",
       "      <td>\"The final attributes that were used in the machine learning model are:\\n1. Number of labels in the Fully Qualified Domain Name (FQDN)\\n2. Maximum label length in the FQDN\\n3. Average label length in the FQDN\\n4. Total count of characters in the FQDN\\n5. Count of characters in the sub-domain portion of the FQDN\\n6. Count of uppercase characters in the query name\\n7. Count of numerical characters in the query name\"</td>\n",
       "      <td>0.85</td>\n",
       "      <td>1.000000</td>\n",
       "      <td>1.0</td>\n",
       "    </tr>\n",
       "    <tr>\n",
       "      <th>11</th>\n",
       "      <td>\"what were all the evaluation metrics used\"</td>\n",
       "      <td>\"The evaluation metrics used in the given context are:\\n1. Accuracy: The accuracy of the trained model for benign instances was cross-validated and tested. It measures the rate of detection (normal versus anomalous) for the benign instances.\\n2. Detection Rate: The detection rate for malicious DNS queries generated using the tool was tested. It quantifies the performance of the scheme in detecting malicious queries.\\n3. Performance in Real-time: The performance of the scheme was quantified in real-time on live 10 Gbps traffic streams from the two organizations.\"</td>\n",
       "      <td>0.80</td>\n",
       "      <td>0.800000</td>\n",
       "      <td>1.0</td>\n",
       "    </tr>\n",
       "    <tr>\n",
       "      <th>12</th>\n",
       "      <td>\"what were all the references that was used\"</td>\n",
       "      <td>\"The references that were used in the given context are:\\n1. Ef\\ufb01cient iP, \\u201cThe Global DNS Threat Survey,\\u201d Tech. Rep., 2017.\\n2. B. Krebs.\"</td>\n",
       "      <td>0.35</td>\n",
       "      <td>0.500000</td>\n",
       "      <td>1.0</td>\n",
       "    </tr>\n",
       "    <tr>\n",
       "      <th>13</th>\n",
       "      <td>\"what were all the algorithms that were tested out\"</td>\n",
       "      <td>\"The algorithms that were tested out include recursive partitioning represented by a tree structure, random partitioning, and iForest.\"</td>\n",
       "      <td>0.00</td>\n",
       "      <td>0.333333</td>\n",
       "      <td>1.0</td>\n",
       "    </tr>\n",
       "    <tr>\n",
       "      <th>14</th>\n",
       "      <td>\"what was the final goal of the author and did they achieve it\"</td>\n",
       "      <td>\"The final goal of the author was to establish an upper bound on the volume of surreptitious communication by investigating inter-query time and query record type. It is not mentioned in the context whether the author achieved this goal or not.\"</td>\n",
       "      <td>0.25</td>\n",
       "      <td>1.000000</td>\n",
       "      <td>0.9</td>\n",
       "    </tr>\n",
       "    <tr>\n",
       "      <th>15</th>\n",
       "      <td>\"what does each attribute mean in the aritcle\"</td>\n",
       "      <td>\"The attributes mentioned in the article are used to analyze DNS query packets and determine the degree of non-readability or strength of encryption in a string. Here is the meaning of each attribute:\\n\\n1. Number of Labels: This attribute refers to the number of labels separated by dots in a query name. It is used because DNS exfiltration/tunneling traffic tends to use certain patterns of labels in their query names.\\n\\n2. Maximum Label Length: This attribute represents the maximum length of a label in the fully qualified domain name (FQDN). It is one of the attributes used for the machine learning model.\\n\\n3. Average Label Length: This attribute represents the average length of labels in the FQDN. It is another attribute used for the machine learning model.\\n\\n4. Total Count of Characters in FQDN: This attribute counts the total number of characters in the FQDN. More characters in the query name may indicate that it carries embedded information for an outside host.\\n\\n5. Count of Characters in Sub-Domain: This attribute counts the number of characters in the sub-domain portion of the FQDN. It is used as a second attribute to analyze the query name.\\n\\n6. Count of Uppercase Characters: This attribute counts the number of uppercase characters in the query name. It is used to determine if the query name is benign or malicious, as the fraction of uppercase characters can be higher in encrypted/encoded data.\\n\\n7. Count of Numerical Characters: This attribute counts the number of numerical characters in the query name. Similar to the count of uppercase characters, it is used to determine if the query name is benign or malicious, as the fraction of numerical characters can be higher in encrypted/encoded data. However, not all encrypted data is necessarily malicious.\"</td>\n",
       "      <td>0.85</td>\n",
       "      <td>0.888889</td>\n",
       "      <td>1.0</td>\n",
       "    </tr>\n",
       "    <tr>\n",
       "      <th>16</th>\n",
       "      <td>\"what is is that this paper is trying to accomplish\"</td>\n",
       "      <td>\"The paper is trying to accomplish training an anomaly detection machine using benign data and testing it with the remaining data.\"</td>\n",
       "      <td>0.30</td>\n",
       "      <td>1.000000</td>\n",
       "      <td>1.0</td>\n",
       "    </tr>\n",
       "    <tr>\n",
       "      <th>17</th>\n",
       "      <td>\"How was the data set collected\"</td>\n",
       "      <td>\"The data set was collected over a one-week period from 30-Jul-2018 to 5-Aug-2018.\"</td>\n",
       "      <td>0.85</td>\n",
       "      <td>1.000000</td>\n",
       "      <td>1.0</td>\n",
       "    </tr>\n",
       "  </tbody>\n",
       "</table>\n",
       "</div>"
      ],
      "text/plain": [
       "                                                              input  \\\n",
       "0      \"what were the final parameters that were used in the model\"   \n",
       "1                   \"what were the final attributes that were used\"   \n",
       "2                       \"what were all the evaluation metrics used\"   \n",
       "3                      \"what were all the references that was used\"   \n",
       "4               \"what were all the algorithms that were tested out\"   \n",
       "5   \"what was the final goal of the author and did they achieve it\"   \n",
       "6                    \"what does each attribute mean in the aritcle\"   \n",
       "7              \"what is is that this paper is trying to accomplish\"   \n",
       "8                                  \"How was the data set collected\"   \n",
       "9      \"what were the final parameters that were used in the model\"   \n",
       "10                  \"what were the final attributes that were used\"   \n",
       "11                      \"what were all the evaluation metrics used\"   \n",
       "12                     \"what were all the references that was used\"   \n",
       "13              \"what were all the algorithms that were tested out\"   \n",
       "14  \"what was the final goal of the author and did they achieve it\"   \n",
       "15                   \"what does each attribute mean in the aritcle\"   \n",
       "16             \"what is is that this paper is trying to accomplish\"   \n",
       "17                                 \"How was the data set collected\"   \n",
       "\n",
       "                                                                                                                                                                                                                                                                                                                                                                                                                                                                                                                                                                                                                                                                                                                                                                                                                                                                                                                                                                                                                                                                                                                                                                                                                                                                                                                                                                                                                                                                                                                                                                                                                                                                                                                                                                                                                                                                output  \\\n",
       "0                                                                                                                                                                                                                                                                                                                                                                                                                                                                                                                                                                                                                                                                                                                                                                                                                                                                                                                                                                                                                                                                                                                                                                                                                                                                                                                                                                                                                                                                                                                                                                                                                                                                                                                                                                                          \"The final parameters used in the model were a number of trees equal to 2.\"   \n",
       "1                                                                                                                                                                                                                                                                                                                                                                                                                                                                                                                                                                                                                                                                                                                                                                                                                                                                                                                                                                                                                                                                                                                                                                                                                                                                                                                                                                                                                                                                                                                                        \"The final attributes that were used in the machine learning model are the number of labels, maximum label length, average label length, total count of characters in the FQDN, count of characters in the sub-domain, count of uppercase characters in the query name, and count of numerical characters in the query name.\"   \n",
       "2                                                                                                                                                                                                                                                                                                                                                                                                                                                                                                                                                                                                                                                                                                                                                                                                                                                                                                                                                                                                                                                                                                                                                                                                                                                                                                                                                                   \"The evaluation metrics used in the given context are:\\n1. Accuracy: The accuracy of the trained model for benign instances was cross-validated and tested. The rate of detection (normal versus anomalous) for the benign instances was measured.\\n2. Detection Rate: The detection rate for malicious DNS queries generated using their tool was tested.\\n3. Performance: The performance of the scheme in real-time on live 10 Gbps traffic streams from the two organizations was quantified.\"   \n",
       "3                                                                                                                                                                                                                                                                                                                                                                                                                                                                                                                                                                                                                                                                                                                                                                                                                                                                                                                                                                                                                                                                                                                                                                                                                                                                                                                                                                                                                                                                                                                                                                                                                                                                                                            \"The references that were used in the given context are:\\n1. Ef\\ufb01cient iP, \\u201cThe Global DNS Threat Survey,\\u201d Tech. Rep., 2017.\\n2. B. Krebs.\"   \n",
       "4                                                                                                                                                                                                                                                                                                                                                                                                                                                                                                                                                                                                                                                                                                                                                                                                                                                                                                                                                                                                                                                                                                                                                                                                                                                                                                                                                                                                                                                                                                                                                                                                                                                                                                                                                       \"The context information does not provide any specific information about the algorithms that were tested out.\"   \n",
       "5                                                                                                                                                                                                                                                                                                                                                                                                                                                                                                                                                                                                                                                                                                                                                                                                                                                                                                                                                                                                                                                                                                                                                                                                                                                                                                                                                                                                                                                                                                                                                                                                                \"The final goal of the author was to establish an upper bound on the volume of surreptitious communication by investigating inter-query time and query record type. It is not mentioned in the context whether the author achieved this goal or not.\"   \n",
       "6                                                                                                                                                                                                                                                                                               \"The attributes mentioned in the article are used to analyze DNS query packets and determine the degree of non-readability or strength of encryption. Here is the meaning of each attribute:\\n\\n1. Number of Labels: Refers to the number of labels (separated by dots) in the query name. Certain patterns of labels are often used in DNS exfiltration/tunneling traffic.\\n\\n2. Maximum Label Length: Represents the maximum length of a label in the fully qualified domain name (FQDN). It is one of the attributes used in the machine learning model.\\n\\n3. Average Label Length: Represents the average length of labels in the FQDN. It is another attribute used in the machine learning model.\\n\\n4. Total Count of Characters in FQDN: Indicates the total number of characters in the FQDN. More characters suggest that the query name may carry embedded information for an outside host.\\n\\n5. Count of Characters in Sub-Domain: Refers to the count of characters in the sub-domain portion of the FQDN. This attribute helps identify if the query name is benign or malicious.\\n\\n6. Count of Uppercase Characters: Represents the count of uppercase characters in the query name. A high fraction of uppercase characters may indicate encrypted or encoded data.\\n\\n7. Count of Numerical Characters: Represents the count of numerical characters in the query name. Similar to uppercase characters, a high fraction of numerical characters may suggest encrypted or encoded data. However, not all encrypted data is necessarily malicious.\"   \n",
       "7                                                                                                                                                                                                                                                                                                                                                                                                                                                                                                                                                                                                                                                                                                                                                                                                                                                                                                                                                                                                                                                                                                                                                                                                                                                                                                                                                                                                                                                                                                                                                                                                                                                                                                                                  \"The paper is trying to accomplish training an anomaly detection machine using benign data and testing it with the remaining data.\"   \n",
       "8                                                                                                                                                                                                                                                                                                                                                                                                                                                                                                                                                                                                                                                                                                                                                                                                                                                                                                                                                                                                                                                                                                                                                                                                                                                                                                                                                                                                                                                                                                                                                                                                                                                                                                                                                                                  \"The data set was collected over a one-week period from 30-Jul-2018 to 5-Aug-2018.\"   \n",
       "9                                                                                                                                                                                                                                                                                                                                                                                                                                                                                                                                                                                                                                                                                                                                                                                                                                                                                                                                                                                                                                                                                                                                                                                                                                                                                                                                                                                                                                                                                                                                                                                                                                                                                                                                                                                          \"The final parameters used in the model were a number of trees equal to 2.\"   \n",
       "10                                                                                                                                                                                                                                                                                                                                                                                                                                                                                                                                                                                                                                                                                                                                                                                                                                                                                                                                                                                                                                                                                                                                                                                                                                                                                                                                                                                                                                   \"The final attributes that were used in the machine learning model are:\\n1. Number of labels in the Fully Qualified Domain Name (FQDN)\\n2. Maximum label length in the FQDN\\n3. Average label length in the FQDN\\n4. Total count of characters in the FQDN\\n5. Count of characters in the sub-domain portion of the FQDN\\n6. Count of uppercase characters in the query name\\n7. Count of numerical characters in the query name\"   \n",
       "11                                                                                                                                                                                                                                                                                                                                                                                                                                                                                                                                                                                                                                                                                                                                                                                                                                                                                                                                                                                                                                                                                                                                                                                                                                                                            \"The evaluation metrics used in the given context are:\\n1. Accuracy: The accuracy of the trained model for benign instances was cross-validated and tested. It measures the rate of detection (normal versus anomalous) for the benign instances.\\n2. Detection Rate: The detection rate for malicious DNS queries generated using the tool was tested. It quantifies the performance of the scheme in detecting malicious queries.\\n3. Performance in Real-time: The performance of the scheme was quantified in real-time on live 10 Gbps traffic streams from the two organizations.\"   \n",
       "12                                                                                                                                                                                                                                                                                                                                                                                                                                                                                                                                                                                                                                                                                                                                                                                                                                                                                                                                                                                                                                                                                                                                                                                                                                                                                                                                                                                                                                                                                                                                                                                                                                                                                                           \"The references that were used in the given context are:\\n1. Ef\\ufb01cient iP, \\u201cThe Global DNS Threat Survey,\\u201d Tech. Rep., 2017.\\n2. B. Krebs.\"   \n",
       "13                                                                                                                                                                                                                                                                                                                                                                                                                                                                                                                                                                                                                                                                                                                                                                                                                                                                                                                                                                                                                                                                                                                                                                                                                                                                                                                                                                                                                                                                                                                                                                                                                                                                                                                             \"The algorithms that were tested out include recursive partitioning represented by a tree structure, random partitioning, and iForest.\"   \n",
       "14                                                                                                                                                                                                                                                                                                                                                                                                                                                                                                                                                                                                                                                                                                                                                                                                                                                                                                                                                                                                                                                                                                                                                                                                                                                                                                                                                                                                                                                                                                                                                                                                               \"The final goal of the author was to establish an upper bound on the volume of surreptitious communication by investigating inter-query time and query record type. It is not mentioned in the context whether the author achieved this goal or not.\"   \n",
       "15  \"The attributes mentioned in the article are used to analyze DNS query packets and determine the degree of non-readability or strength of encryption in a string. Here is the meaning of each attribute:\\n\\n1. Number of Labels: This attribute refers to the number of labels separated by dots in a query name. It is used because DNS exfiltration/tunneling traffic tends to use certain patterns of labels in their query names.\\n\\n2. Maximum Label Length: This attribute represents the maximum length of a label in the fully qualified domain name (FQDN). It is one of the attributes used for the machine learning model.\\n\\n3. Average Label Length: This attribute represents the average length of labels in the FQDN. It is another attribute used for the machine learning model.\\n\\n4. Total Count of Characters in FQDN: This attribute counts the total number of characters in the FQDN. More characters in the query name may indicate that it carries embedded information for an outside host.\\n\\n5. Count of Characters in Sub-Domain: This attribute counts the number of characters in the sub-domain portion of the FQDN. It is used as a second attribute to analyze the query name.\\n\\n6. Count of Uppercase Characters: This attribute counts the number of uppercase characters in the query name. It is used to determine if the query name is benign or malicious, as the fraction of uppercase characters can be higher in encrypted/encoded data.\\n\\n7. Count of Numerical Characters: This attribute counts the number of numerical characters in the query name. Similar to the count of uppercase characters, it is used to determine if the query name is benign or malicious, as the fraction of numerical characters can be higher in encrypted/encoded data. However, not all encrypted data is necessarily malicious.\"   \n",
       "16                                                                                                                                                                                                                                                                                                                                                                                                                                                                                                                                                                                                                                                                                                                                                                                                                                                                                                                                                                                                                                                                                                                                                                                                                                                                                                                                                                                                                                                                                                                                                                                                                                                                                                                                 \"The paper is trying to accomplish training an anomaly detection machine using benign data and testing it with the remaining data.\"   \n",
       "17                                                                                                                                                                                                                                                                                                                                                                                                                                                                                                                                                                                                                                                                                                                                                                                                                                                                                                                                                                                                                                                                                                                                                                                                                                                                                                                                                                                                                                                                                                                                                                                                                                                                                                                                                                                 \"The data set was collected over a one-week period from 30-Jul-2018 to 5-Aug-2018.\"   \n",
       "\n",
       "    context relevane  grounded  relevance_with_cot_reasons  \n",
       "0               0.85  1.000000                         1.0  \n",
       "1               0.85  1.000000                         1.0  \n",
       "2               0.80  1.000000                         1.0  \n",
       "3               0.40  0.500000                         1.0  \n",
       "4               0.00  0.000000                         0.0  \n",
       "5               0.25  1.000000                         0.9  \n",
       "6               0.85  0.888889                         1.0  \n",
       "7               0.10  1.000000                         1.0  \n",
       "8               0.85  1.000000                         1.0  \n",
       "9               0.85  1.000000                         1.0  \n",
       "10              0.85  1.000000                         1.0  \n",
       "11              0.80  0.800000                         1.0  \n",
       "12              0.35  0.500000                         1.0  \n",
       "13              0.00  0.333333                         1.0  \n",
       "14              0.25  1.000000                         0.9  \n",
       "15              0.85  0.888889                         1.0  \n",
       "16              0.30  1.000000                         1.0  \n",
       "17              0.85  1.000000                         1.0  "
      ]
     },
     "execution_count": 28,
     "metadata": {},
     "output_type": "execute_result"
    }
   ],
   "source": [
    "import pandas as pd\n",
    "pd.set_option(\"display.max_colwidth\", None)\n",
    "records[[\"input\", \"output\"] + feedback]"
   ]
  },
  {
   "cell_type": "code",
   "execution_count": 29,
   "metadata": {},
   "outputs": [
    {
     "name": "stdout",
     "output_type": "stream",
     "text": [
      "Starting dashboard ...\n"
     ]
    },
    {
     "name": "stderr",
     "output_type": "stream",
     "text": [
      "huggingface/tokenizers: The current process just got forked, after parallelism has already been used. Disabling parallelism to avoid deadlocks...\n",
      "To disable this warning, you can either:\n",
      "\t- Avoid using `tokenizers` before the fork if possible\n",
      "\t- Explicitly set the environment variable TOKENIZERS_PARALLELISM=(true | false)\n"
     ]
    },
    {
     "data": {
      "application/vnd.jupyter.widget-view+json": {
       "model_id": "08d78e50169f4acb89cb12a7730405f4",
       "version_major": 2,
       "version_minor": 0
      },
      "text/plain": [
       "Accordion(children=(VBox(children=(VBox(children=(Label(value='STDOUT'), Output())), VBox(children=(Label(valu…"
      ]
     },
     "metadata": {},
     "output_type": "display_data"
    },
    {
     "name": "stdout",
     "output_type": "stream",
     "text": [
      "Dashboard started at http://localhost:8501 .\n"
     ]
    },
    {
     "data": {
      "text/plain": [
       "<Popen: returncode: None args: ['streamlit', 'run', '--server.headless=True'...>"
      ]
     },
     "execution_count": 29,
     "metadata": {},
     "output_type": "execute_result"
    }
   ],
   "source": [
    "tru.run_dashboard()"
   ]
  },
  {
   "cell_type": "code",
   "execution_count": null,
   "metadata": {},
   "outputs": [],
   "source": []
  }
 ],
 "metadata": {
  "kernelspec": {
   "display_name": "Python 3 (ipykernel)",
   "language": "python",
   "name": "python3"
  },
  "language_info": {
   "codemirror_mode": {
    "name": "ipython",
    "version": 3
   },
   "file_extension": ".py",
   "mimetype": "text/x-python",
   "name": "python",
   "nbconvert_exporter": "python",
   "pygments_lexer": "ipython3",
   "version": "3.9.6"
  }
 },
 "nbformat": 4,
 "nbformat_minor": 2
}
